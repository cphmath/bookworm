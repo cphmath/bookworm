{
 "cells": [
  {
   "cell_type": "markdown",
   "metadata": {},
   "source": [
    "# Estimating the Increase in Digital Library Checkouts in Seattle Due to The Covid-19 Pandemic\n",
    "\n",
    "Carol Phillips Hatter\n",
    "\n",
    "July 22, 2020\n",
    "\n",
    "During the last few months as I have spent much more time at home along with everyone else, I have been spending more time reading and listening to audioboks. I'm curious if others have been doing the same, and if this would be a trend I could observe in Seattle Public Library checkout data. The physical branches have been closed since March 25, but digital checkouts for ebooks and audiobooks are still available. I want to see if there has been an increase in digital checkouts since the pandemic began, and if the increase can offset the decrease in physical checkouts due to branch closures.\n",
    "\n",
    "I used the [Checkouts By Title](https://data.seattle.gov/Community/Checkouts-by-Title/tmmm-ytt6) dataset from data.seattle.gov to perform this analysis. The dataset has monthly checkout totals by title, type (audiobook, ebook, book, music, etc.) and usage class (physical/digital)\n",
    "\n",
    "I found that digital checkouts only increased about 13% in April, May and June, for a total of 147,500 incremental digital checkouts. This does not come close to offsetting the decrease in physical checkouts which is about 1,050,000 for the same time period."
   ]
  },
  {
   "cell_type": "code",
   "execution_count": 1,
   "metadata": {},
   "outputs": [],
   "source": [
    "import os\n",
    "os.chdir('..')\n",
    "\n",
    "import pandas as pd\n",
    "import numpy as np\n",
    "import  altair as alt\n",
    "import statsmodels.api as sm\n",
    "import datetime as dt\n",
    "import bookworm.data\n",
    "alt.renderers.enable('mimetype')\n",
    "pd.options.mode.chained_assignment = None"
   ]
  },
  {
   "cell_type": "markdown",
   "metadata": {},
   "source": [
    "# Pull Data"
   ]
  },
  {
   "cell_type": "code",
   "execution_count": 2,
   "metadata": {},
   "outputs": [
    {
     "name": "stdout",
     "output_type": "stream",
     "text": [
      "Loading cached data...\n",
      "Processing data...\n",
      "Done\n"
     ]
    }
   ],
   "source": [
    "df = bookworm.data.get_checkouts_by_usage_class()"
   ]
  },
  {
   "cell_type": "code",
   "execution_count": 3,
   "metadata": {},
   "outputs": [
    {
     "data": {
      "text/html": [
       "<div>\n",
       "<style scoped>\n",
       "    .dataframe tbody tr th:only-of-type {\n",
       "        vertical-align: middle;\n",
       "    }\n",
       "\n",
       "    .dataframe tbody tr th {\n",
       "        vertical-align: top;\n",
       "    }\n",
       "\n",
       "    .dataframe thead th {\n",
       "        text-align: right;\n",
       "    }\n",
       "</style>\n",
       "<table border=\"1\" class=\"dataframe\">\n",
       "  <thead>\n",
       "    <tr style=\"text-align: right;\">\n",
       "      <th></th>\n",
       "      <th>month_date</th>\n",
       "      <th>usage_class</th>\n",
       "      <th>monthly_checkouts</th>\n",
       "    </tr>\n",
       "  </thead>\n",
       "  <tbody>\n",
       "    <tr>\n",
       "      <th>58</th>\n",
       "      <td>2017-01-01</td>\n",
       "      <td>Digital</td>\n",
       "      <td>185376</td>\n",
       "    </tr>\n",
       "    <tr>\n",
       "      <th>36</th>\n",
       "      <td>2017-01-01</td>\n",
       "      <td>Physical</td>\n",
       "      <td>331830</td>\n",
       "    </tr>\n",
       "    <tr>\n",
       "      <th>31</th>\n",
       "      <td>2017-02-01</td>\n",
       "      <td>Digital</td>\n",
       "      <td>168370</td>\n",
       "    </tr>\n",
       "    <tr>\n",
       "      <th>66</th>\n",
       "      <td>2017-02-01</td>\n",
       "      <td>Physical</td>\n",
       "      <td>299992</td>\n",
       "    </tr>\n",
       "    <tr>\n",
       "      <th>56</th>\n",
       "      <td>2017-03-01</td>\n",
       "      <td>Digital</td>\n",
       "      <td>186795</td>\n",
       "    </tr>\n",
       "  </tbody>\n",
       "</table>\n",
       "</div>"
      ],
      "text/plain": [
       "   month_date usage_class  monthly_checkouts\n",
       "58 2017-01-01     Digital             185376\n",
       "36 2017-01-01    Physical             331830\n",
       "31 2017-02-01     Digital             168370\n",
       "66 2017-02-01    Physical             299992\n",
       "56 2017-03-01     Digital             186795"
      ]
     },
     "execution_count": 3,
     "metadata": {},
     "output_type": "execute_result"
    }
   ],
   "source": [
    "df.head()"
   ]
  },
  {
   "cell_type": "markdown",
   "metadata": {},
   "source": [
    "# Digital vs Physical Trends\n",
    "\n",
    "Between January 2017 and March 2020, Digital checkouts grew linearly each month while Physical checkouts stayed approximately constant with some month-to-month variation. After March 2020, Physical checkouts dropped to zero due to branch closures, and Digital checkouts seemed to increase beyond the expected trend. Visually, I can see that the digital checkouts increase does not offset the decrease in physical checkouts. However, I still want to know how much digital checkouts grew beyond what we would have expected during the pandemic."
   ]
  },
  {
   "cell_type": "code",
   "execution_count": 4,
   "metadata": {},
   "outputs": [
    {
     "data": {
      "application/vnd.vegalite.v4+json": {
       "$schema": "https://vega.github.io/schema/vega-lite/v4.8.1.json",
       "config": {
        "view": {
         "continuousHeight": 300,
         "continuousWidth": 400
        }
       },
       "data": {
        "name": "data-467ffd9bc000d8f2bb012d6fdf77bfe7"
       },
       "datasets": {
        "data-467ffd9bc000d8f2bb012d6fdf77bfe7": [
         {
          "month_date": "2017-01-01T00:00:00",
          "monthly_checkouts": 185376,
          "usage_class": "Digital"
         },
         {
          "month_date": "2017-01-01T00:00:00",
          "monthly_checkouts": 331830,
          "usage_class": "Physical"
         },
         {
          "month_date": "2017-02-01T00:00:00",
          "monthly_checkouts": 168370,
          "usage_class": "Digital"
         },
         {
          "month_date": "2017-02-01T00:00:00",
          "monthly_checkouts": 299992,
          "usage_class": "Physical"
         },
         {
          "month_date": "2017-03-01T00:00:00",
          "monthly_checkouts": 186795,
          "usage_class": "Digital"
         },
         {
          "month_date": "2017-03-01T00:00:00",
          "monthly_checkouts": 339645,
          "usage_class": "Physical"
         },
         {
          "month_date": "2017-04-01T00:00:00",
          "monthly_checkouts": 184500,
          "usage_class": "Digital"
         },
         {
          "month_date": "2017-04-01T00:00:00",
          "monthly_checkouts": 323798,
          "usage_class": "Physical"
         },
         {
          "month_date": "2017-05-01T00:00:00",
          "monthly_checkouts": 187126,
          "usage_class": "Digital"
         },
         {
          "month_date": "2017-05-01T00:00:00",
          "monthly_checkouts": 314535,
          "usage_class": "Physical"
         },
         {
          "month_date": "2017-06-01T00:00:00",
          "monthly_checkouts": 190590,
          "usage_class": "Digital"
         },
         {
          "month_date": "2017-06-01T00:00:00",
          "monthly_checkouts": 331804,
          "usage_class": "Physical"
         },
         {
          "month_date": "2017-07-01T00:00:00",
          "monthly_checkouts": 198990,
          "usage_class": "Digital"
         },
         {
          "month_date": "2017-07-01T00:00:00",
          "monthly_checkouts": 363403,
          "usage_class": "Physical"
         },
         {
          "month_date": "2017-08-01T00:00:00",
          "monthly_checkouts": 209142,
          "usage_class": "Digital"
         },
         {
          "month_date": "2017-08-01T00:00:00",
          "monthly_checkouts": 353581,
          "usage_class": "Physical"
         },
         {
          "month_date": "2017-09-01T00:00:00",
          "monthly_checkouts": 191778,
          "usage_class": "Digital"
         },
         {
          "month_date": "2017-09-01T00:00:00",
          "monthly_checkouts": 331058,
          "usage_class": "Physical"
         },
         {
          "month_date": "2017-10-01T00:00:00",
          "monthly_checkouts": 198296,
          "usage_class": "Digital"
         },
         {
          "month_date": "2017-10-01T00:00:00",
          "monthly_checkouts": 342200,
          "usage_class": "Physical"
         },
         {
          "month_date": "2017-11-01T00:00:00",
          "monthly_checkouts": 197227,
          "usage_class": "Digital"
         },
         {
          "month_date": "2017-11-01T00:00:00",
          "monthly_checkouts": 335034,
          "usage_class": "Physical"
         },
         {
          "month_date": "2017-12-01T00:00:00",
          "monthly_checkouts": 210896,
          "usage_class": "Digital"
         },
         {
          "month_date": "2017-12-01T00:00:00",
          "monthly_checkouts": 304713,
          "usage_class": "Physical"
         },
         {
          "month_date": "2018-01-01T00:00:00",
          "monthly_checkouts": 225361,
          "usage_class": "Digital"
         },
         {
          "month_date": "2018-01-01T00:00:00",
          "monthly_checkouts": 355101,
          "usage_class": "Physical"
         },
         {
          "month_date": "2018-02-01T00:00:00",
          "monthly_checkouts": 203892,
          "usage_class": "Digital"
         },
         {
          "month_date": "2018-02-01T00:00:00",
          "monthly_checkouts": 309813,
          "usage_class": "Physical"
         },
         {
          "month_date": "2018-03-01T00:00:00",
          "monthly_checkouts": 227451,
          "usage_class": "Digital"
         },
         {
          "month_date": "2018-03-01T00:00:00",
          "monthly_checkouts": 344487,
          "usage_class": "Physical"
         },
         {
          "month_date": "2018-04-01T00:00:00",
          "monthly_checkouts": 223897,
          "usage_class": "Digital"
         },
         {
          "month_date": "2018-04-01T00:00:00",
          "monthly_checkouts": 330988,
          "usage_class": "Physical"
         },
         {
          "month_date": "2018-05-01T00:00:00",
          "monthly_checkouts": 227328,
          "usage_class": "Digital"
         },
         {
          "month_date": "2018-05-01T00:00:00",
          "monthly_checkouts": 318049,
          "usage_class": "Physical"
         },
         {
          "month_date": "2018-06-01T00:00:00",
          "monthly_checkouts": 233988,
          "usage_class": "Digital"
         },
         {
          "month_date": "2018-06-01T00:00:00",
          "monthly_checkouts": 341825,
          "usage_class": "Physical"
         },
         {
          "month_date": "2018-07-01T00:00:00",
          "monthly_checkouts": 253747,
          "usage_class": "Digital"
         },
         {
          "month_date": "2018-07-01T00:00:00",
          "monthly_checkouts": 351207,
          "usage_class": "Physical"
         },
         {
          "month_date": "2018-08-01T00:00:00",
          "monthly_checkouts": 260651,
          "usage_class": "Digital"
         },
         {
          "month_date": "2018-08-01T00:00:00",
          "monthly_checkouts": 352977,
          "usage_class": "Physical"
         },
         {
          "month_date": "2018-09-01T00:00:00",
          "monthly_checkouts": 243301,
          "usage_class": "Digital"
         },
         {
          "month_date": "2018-09-01T00:00:00",
          "monthly_checkouts": 319587,
          "usage_class": "Physical"
         },
         {
          "month_date": "2018-10-01T00:00:00",
          "monthly_checkouts": 250071,
          "usage_class": "Digital"
         },
         {
          "month_date": "2018-10-01T00:00:00",
          "monthly_checkouts": 338497,
          "usage_class": "Physical"
         },
         {
          "month_date": "2018-11-01T00:00:00",
          "monthly_checkouts": 240341,
          "usage_class": "Digital"
         },
         {
          "month_date": "2018-11-01T00:00:00",
          "monthly_checkouts": 325249,
          "usage_class": "Physical"
         },
         {
          "month_date": "2018-12-01T00:00:00",
          "monthly_checkouts": 253629,
          "usage_class": "Digital"
         },
         {
          "month_date": "2018-12-01T00:00:00",
          "monthly_checkouts": 299789,
          "usage_class": "Physical"
         },
         {
          "month_date": "2019-01-01T00:00:00",
          "monthly_checkouts": 275985,
          "usage_class": "Digital"
         },
         {
          "month_date": "2019-01-01T00:00:00",
          "monthly_checkouts": 352288,
          "usage_class": "Physical"
         },
         {
          "month_date": "2019-02-01T00:00:00",
          "monthly_checkouts": 249946,
          "usage_class": "Digital"
         },
         {
          "month_date": "2019-02-01T00:00:00",
          "monthly_checkouts": 299465,
          "usage_class": "Physical"
         },
         {
          "month_date": "2019-03-01T00:00:00",
          "monthly_checkouts": 270097,
          "usage_class": "Digital"
         },
         {
          "month_date": "2019-03-01T00:00:00",
          "monthly_checkouts": 326457,
          "usage_class": "Physical"
         },
         {
          "month_date": "2019-04-01T00:00:00",
          "monthly_checkouts": 269302,
          "usage_class": "Digital"
         },
         {
          "month_date": "2019-04-01T00:00:00",
          "monthly_checkouts": 326988,
          "usage_class": "Physical"
         },
         {
          "month_date": "2019-05-01T00:00:00",
          "monthly_checkouts": 278086,
          "usage_class": "Digital"
         },
         {
          "month_date": "2019-05-01T00:00:00",
          "monthly_checkouts": 314565,
          "usage_class": "Physical"
         },
         {
          "month_date": "2019-06-01T00:00:00",
          "monthly_checkouts": 279311,
          "usage_class": "Digital"
         },
         {
          "month_date": "2019-06-01T00:00:00",
          "monthly_checkouts": 331914,
          "usage_class": "Physical"
         },
         {
          "month_date": "2019-07-01T00:00:00",
          "monthly_checkouts": 300752,
          "usage_class": "Digital"
         },
         {
          "month_date": "2019-07-01T00:00:00",
          "monthly_checkouts": 356688,
          "usage_class": "Physical"
         },
         {
          "month_date": "2019-08-01T00:00:00",
          "monthly_checkouts": 304575,
          "usage_class": "Digital"
         },
         {
          "month_date": "2019-08-01T00:00:00",
          "monthly_checkouts": 340723,
          "usage_class": "Physical"
         },
         {
          "month_date": "2019-09-01T00:00:00",
          "monthly_checkouts": 287419,
          "usage_class": "Digital"
         },
         {
          "month_date": "2019-09-01T00:00:00",
          "monthly_checkouts": 328773,
          "usage_class": "Physical"
         },
         {
          "month_date": "2019-10-01T00:00:00",
          "monthly_checkouts": 294671,
          "usage_class": "Digital"
         },
         {
          "month_date": "2019-10-01T00:00:00",
          "monthly_checkouts": 334295,
          "usage_class": "Physical"
         },
         {
          "month_date": "2019-11-01T00:00:00",
          "monthly_checkouts": 289002,
          "usage_class": "Digital"
         },
         {
          "month_date": "2019-11-01T00:00:00",
          "monthly_checkouts": 323796,
          "usage_class": "Physical"
         },
         {
          "month_date": "2019-12-01T00:00:00",
          "monthly_checkouts": 308176,
          "usage_class": "Digital"
         },
         {
          "month_date": "2019-12-01T00:00:00",
          "monthly_checkouts": 295736,
          "usage_class": "Physical"
         },
         {
          "month_date": "2020-01-01T00:00:00",
          "monthly_checkouts": 324650,
          "usage_class": "Digital"
         },
         {
          "month_date": "2020-01-01T00:00:00",
          "monthly_checkouts": 343328,
          "usage_class": "Physical"
         },
         {
          "month_date": "2020-02-01T00:00:00",
          "monthly_checkouts": 300871,
          "usage_class": "Digital"
         },
         {
          "month_date": "2020-02-01T00:00:00",
          "monthly_checkouts": 317946,
          "usage_class": "Physical"
         },
         {
          "month_date": "2020-03-01T00:00:00",
          "monthly_checkouts": 321092,
          "usage_class": "Digital"
         },
         {
          "month_date": "2020-03-01T00:00:00",
          "monthly_checkouts": 215128,
          "usage_class": "Physical"
         },
         {
          "month_date": "2020-04-01T00:00:00",
          "monthly_checkouts": 354090,
          "usage_class": "Digital"
         },
         {
          "month_date": "2020-04-01T00:00:00",
          "monthly_checkouts": 70,
          "usage_class": "Physical"
         },
         {
          "month_date": "2020-05-01T00:00:00",
          "monthly_checkouts": 383934,
          "usage_class": "Digital"
         },
         {
          "month_date": "2020-05-01T00:00:00",
          "monthly_checkouts": 87,
          "usage_class": "Physical"
         },
         {
          "month_date": "2020-06-01T00:00:00",
          "monthly_checkouts": 380269,
          "usage_class": "Digital"
         },
         {
          "month_date": "2020-06-01T00:00:00",
          "monthly_checkouts": 43,
          "usage_class": "Physical"
         }
        ]
       },
       "encoding": {
        "color": {
         "field": "usage_class",
         "type": "nominal"
        },
        "x": {
         "field": "month_date",
         "type": "temporal"
        },
        "y": {
         "field": "monthly_checkouts",
         "type": "quantitative"
        }
       },
       "mark": "line"
      },
      "image/png": "[encoded data removed]",
      "text/plain": [
       "<VegaLite 4 object>\n",
       "\n",
       "If you see this message, it means the renderer has not been properly enabled\n",
       "for the frontend that you are using. For more information, see\n",
       "https://altair-viz.github.io/user_guide/troubleshooting.html\n"
      ]
     },
     "execution_count": 4,
     "metadata": {},
     "output_type": "execute_result"
    }
   ],
   "source": [
    "alt.Chart(df).mark_line().encode(\n",
    "    x='month_date',\n",
    "    y='monthly_checkouts',\n",
    "    color='usage_class'\n",
    ")"
   ]
  },
  {
   "cell_type": "markdown",
   "metadata": {},
   "source": [
    "# Modeling Pre-Covid Digital Checkouts Trend\n",
    "\n",
    "To determine the causal impact of the pandemic on digital book checkouts, I can see if a linear model fits the trend prior to March. If it fits well, I can use the linear model to estimate what the digital checkouts would have been without the pandemic, and calculate the difference between the estimate and the actual digital checkouts."
   ]
  },
  {
   "cell_type": "code",
   "execution_count": 5,
   "metadata": {},
   "outputs": [],
   "source": [
    "digital = df.query(\"usage_class == 'Digital'\")"
   ]
  },
  {
   "cell_type": "code",
   "execution_count": 6,
   "metadata": {},
   "outputs": [
    {
     "data": {
      "text/html": [
       "<div>\n",
       "<style scoped>\n",
       "    .dataframe tbody tr th:only-of-type {\n",
       "        vertical-align: middle;\n",
       "    }\n",
       "\n",
       "    .dataframe tbody tr th {\n",
       "        vertical-align: top;\n",
       "    }\n",
       "\n",
       "    .dataframe thead th {\n",
       "        text-align: right;\n",
       "    }\n",
       "</style>\n",
       "<table border=\"1\" class=\"dataframe\">\n",
       "  <thead>\n",
       "    <tr style=\"text-align: right;\">\n",
       "      <th></th>\n",
       "      <th>month_date</th>\n",
       "      <th>usage_class</th>\n",
       "      <th>monthly_checkouts</th>\n",
       "    </tr>\n",
       "  </thead>\n",
       "  <tbody>\n",
       "    <tr>\n",
       "      <th>58</th>\n",
       "      <td>2017-01-01</td>\n",
       "      <td>Digital</td>\n",
       "      <td>185376</td>\n",
       "    </tr>\n",
       "    <tr>\n",
       "      <th>31</th>\n",
       "      <td>2017-02-01</td>\n",
       "      <td>Digital</td>\n",
       "      <td>168370</td>\n",
       "    </tr>\n",
       "    <tr>\n",
       "      <th>56</th>\n",
       "      <td>2017-03-01</td>\n",
       "      <td>Digital</td>\n",
       "      <td>186795</td>\n",
       "    </tr>\n",
       "    <tr>\n",
       "      <th>69</th>\n",
       "      <td>2017-04-01</td>\n",
       "      <td>Digital</td>\n",
       "      <td>184500</td>\n",
       "    </tr>\n",
       "    <tr>\n",
       "      <th>47</th>\n",
       "      <td>2017-05-01</td>\n",
       "      <td>Digital</td>\n",
       "      <td>187126</td>\n",
       "    </tr>\n",
       "  </tbody>\n",
       "</table>\n",
       "</div>"
      ],
      "text/plain": [
       "   month_date usage_class  monthly_checkouts\n",
       "58 2017-01-01     Digital             185376\n",
       "31 2017-02-01     Digital             168370\n",
       "56 2017-03-01     Digital             186795\n",
       "69 2017-04-01     Digital             184500\n",
       "47 2017-05-01     Digital             187126"
      ]
     },
     "execution_count": 6,
     "metadata": {},
     "output_type": "execute_result"
    }
   ],
   "source": [
    "digital.head()"
   ]
  },
  {
   "cell_type": "markdown",
   "metadata": {},
   "source": [
    "## See if a linear model is a good estimator\n",
    "\n",
    "I can see if a linear model is a good estimator by fitting a line to the monthly digital checkouts for January 2017 through November 2019, and using that model to predict the digital checkout volume for December 2019, January 2020 and February 2020. The error on that holdout set will give me an idea of how accurate a linear model will be when it's fit on all the data through March and used to predict what would have happened in April and May under normal non-pandemic circumstances."
   ]
  },
  {
   "cell_type": "code",
   "execution_count": 7,
   "metadata": {},
   "outputs": [],
   "source": [
    "# creates a variable t counting the number of months since the beginning of the dataset, starting at 1\n",
    "digital.loc[:, 't'] = np.arange(1, len(digital) + 1)"
   ]
  },
  {
   "cell_type": "code",
   "execution_count": 8,
   "metadata": {},
   "outputs": [],
   "source": [
    "pre = digital.query(\"month_date < '2019-12-01'\")\n",
    "post = digital.query(\"month_date >= '2019-12-01' & month_date < '2020-03-01'\")"
   ]
  },
  {
   "cell_type": "code",
   "execution_count": 9,
   "metadata": {},
   "outputs": [],
   "source": [
    "X_pre = sm.add_constant(pre[['t']])\n",
    "X_post = sm.add_constant(post[['t']])\n",
    "y = pre[['monthly_checkouts']]"
   ]
  },
  {
   "cell_type": "markdown",
   "metadata": {},
   "source": [
    "### Test model summary\n",
    "\n",
    "The summary of the linear model trained on partial data looks good. R-squared and adjusted R-squared are high, and the predictive variable t has a p-value less than .05 and the coefficient looks reasonable. The p-value on the F-statistic is also below .05"
   ]
  },
  {
   "cell_type": "code",
   "execution_count": 10,
   "metadata": {},
   "outputs": [
    {
     "name": "stdout",
     "output_type": "stream",
     "text": [
      "                            OLS Regression Results                            \n",
      "==============================================================================\n",
      "Dep. Variable:      monthly_checkouts   R-squared:                       0.943\n",
      "Model:                            OLS   Adj. R-squared:                  0.941\n",
      "Method:                 Least Squares   F-statistic:                     543.4\n",
      "Date:                Wed, 22 Jul 2020   Prob (F-statistic):           4.52e-22\n",
      "Time:                        11:56:12   Log-Likelihood:                -369.43\n",
      "No. Observations:                  35   AIC:                             742.9\n",
      "Df Residuals:                      33   BIC:                             746.0\n",
      "Df Model:                           1                                         \n",
      "Covariance Type:            nonrobust                                         \n",
      "==============================================================================\n",
      "                 coef    std err          t      P>|t|      [0.025      0.975]\n",
      "------------------------------------------------------------------------------\n",
      "const       1.686e+05   3303.418     51.042      0.000    1.62e+05    1.75e+05\n",
      "t           3730.8633    160.051     23.310      0.000    3405.237    4056.490\n",
      "==============================================================================\n",
      "Omnibus:                        1.099   Durbin-Watson:                   1.963\n",
      "Prob(Omnibus):                  0.577   Jarque-Bera (JB):                1.047\n",
      "Skew:                           0.266   Prob(JB):                        0.593\n",
      "Kurtosis:                       2.340   Cond. No.                         42.3\n",
      "==============================================================================\n",
      "\n",
      "Warnings:\n",
      "[1] Standard Errors assume that the covariance matrix of the errors is correctly specified.\n"
     ]
    }
   ],
   "source": [
    "model = sm.OLS(y, X_pre)\n",
    "fitted_model = model.fit()\n",
    "print(fitted_model.summary())"
   ]
  },
  {
   "cell_type": "markdown",
   "metadata": {},
   "source": [
    "### Prediction error\n",
    "\n",
    "The mean absolute percentage error on the predictions is 3.4%, and the highest point estimate absolute percentage error is 5.5%. This seems reasonable to me. If the model did not fit well, we could try adding more variables to the linear model to control for other factors like seasonality, or using a more sophisticated time series forecasting model."
   ]
  },
  {
   "cell_type": "code",
   "execution_count": 11,
   "metadata": {},
   "outputs": [],
   "source": [
    "post.loc[:, 'preds'] = fitted_model.predict(X_post)"
   ]
  },
  {
   "cell_type": "code",
   "execution_count": 12,
   "metadata": {},
   "outputs": [],
   "source": [
    "post.loc[:, 'abs_err'] = np.abs(post.loc[:, 'preds'] - post.loc[:, 'monthly_checkouts'])\n",
    "post.loc[:, 'abs_pct_err'] = post.loc[:, 'abs_err'] / post.loc[:, 'monthly_checkouts']"
   ]
  },
  {
   "cell_type": "code",
   "execution_count": 13,
   "metadata": {},
   "outputs": [
    {
     "data": {
      "text/html": [
       "<div>\n",
       "<style scoped>\n",
       "    .dataframe tbody tr th:only-of-type {\n",
       "        vertical-align: middle;\n",
       "    }\n",
       "\n",
       "    .dataframe tbody tr th {\n",
       "        vertical-align: top;\n",
       "    }\n",
       "\n",
       "    .dataframe thead th {\n",
       "        text-align: right;\n",
       "    }\n",
       "</style>\n",
       "<table border=\"1\" class=\"dataframe\">\n",
       "  <thead>\n",
       "    <tr style=\"text-align: right;\">\n",
       "      <th></th>\n",
       "      <th>month_date</th>\n",
       "      <th>usage_class</th>\n",
       "      <th>monthly_checkouts</th>\n",
       "      <th>t</th>\n",
       "      <th>preds</th>\n",
       "      <th>abs_err</th>\n",
       "      <th>abs_pct_err</th>\n",
       "    </tr>\n",
       "  </thead>\n",
       "  <tbody>\n",
       "    <tr>\n",
       "      <th>29</th>\n",
       "      <td>2019-12-01</td>\n",
       "      <td>Digital</td>\n",
       "      <td>308176</td>\n",
       "      <td>36</td>\n",
       "      <td>302923.796639</td>\n",
       "      <td>5252.203361</td>\n",
       "      <td>0.017043</td>\n",
       "    </tr>\n",
       "    <tr>\n",
       "      <th>1</th>\n",
       "      <td>2020-01-01</td>\n",
       "      <td>Digital</td>\n",
       "      <td>324650</td>\n",
       "      <td>37</td>\n",
       "      <td>306654.659944</td>\n",
       "      <td>17995.340056</td>\n",
       "      <td>0.055430</td>\n",
       "    </tr>\n",
       "    <tr>\n",
       "      <th>42</th>\n",
       "      <td>2020-02-01</td>\n",
       "      <td>Digital</td>\n",
       "      <td>300871</td>\n",
       "      <td>38</td>\n",
       "      <td>310385.523249</td>\n",
       "      <td>9514.523249</td>\n",
       "      <td>0.031623</td>\n",
       "    </tr>\n",
       "  </tbody>\n",
       "</table>\n",
       "</div>"
      ],
      "text/plain": [
       "   month_date usage_class  monthly_checkouts   t          preds       abs_err  \\\n",
       "29 2019-12-01     Digital             308176  36  302923.796639   5252.203361   \n",
       "1  2020-01-01     Digital             324650  37  306654.659944  17995.340056   \n",
       "42 2020-02-01     Digital             300871  38  310385.523249   9514.523249   \n",
       "\n",
       "    abs_pct_err  \n",
       "29     0.017043  \n",
       "1      0.055430  \n",
       "42     0.031623  "
      ]
     },
     "execution_count": 13,
     "metadata": {},
     "output_type": "execute_result"
    }
   ],
   "source": [
    "post"
   ]
  },
  {
   "cell_type": "code",
   "execution_count": 14,
   "metadata": {},
   "outputs": [
    {
     "data": {
      "text/plain": [
       "0.034698701687710304"
      ]
     },
     "execution_count": 14,
     "metadata": {},
     "output_type": "execute_result"
    }
   ],
   "source": [
    "post['abs_pct_err'].mean()"
   ]
  },
  {
   "cell_type": "markdown",
   "metadata": {},
   "source": [
    "# Predict the counterfactual digital checkouts for April, May, June\n",
    "\n",
    "What would we have expected digital checkouts to be under normal circumstances?"
   ]
  },
  {
   "cell_type": "code",
   "execution_count": 15,
   "metadata": {},
   "outputs": [],
   "source": [
    "pre = digital.query(\"month_date < '2020-04-01'\")\n",
    "post = digital.query(\"month_date >= '2020-04-01'\")"
   ]
  },
  {
   "cell_type": "code",
   "execution_count": 16,
   "metadata": {},
   "outputs": [],
   "source": [
    "X_pre = sm.add_constant(pre[['t']])\n",
    "X_post = sm.add_constant(post[['t']])\n",
    "y = pre[['monthly_checkouts']]"
   ]
  },
  {
   "cell_type": "markdown",
   "metadata": {},
   "source": [
    "### Full model summary\n",
    "\n",
    "The full model looks great also, with a statistically significant predictor variable, a p-value less than .05 on the F-statistic, and R-squared over .95"
   ]
  },
  {
   "cell_type": "code",
   "execution_count": 17,
   "metadata": {},
   "outputs": [
    {
     "name": "stdout",
     "output_type": "stream",
     "text": [
      "                            OLS Regression Results                            \n",
      "==============================================================================\n",
      "Dep. Variable:      monthly_checkouts   R-squared:                       0.954\n",
      "Model:                            OLS   Adj. R-squared:                  0.952\n",
      "Method:                 Least Squares   F-statistic:                     760.9\n",
      "Date:                Wed, 22 Jul 2020   Prob (F-statistic):           2.82e-26\n",
      "Time:                        11:56:12   Log-Likelihood:                -412.28\n",
      "No. Observations:                  39   AIC:                             828.6\n",
      "Df Residuals:                      37   BIC:                             831.9\n",
      "Df Model:                           1                                         \n",
      "Covariance Type:            nonrobust                                         \n",
      "==============================================================================\n",
      "                 coef    std err          t      P>|t|      [0.025      0.975]\n",
      "------------------------------------------------------------------------------\n",
      "const       1.677e+05   3163.185     53.023      0.000    1.61e+05    1.74e+05\n",
      "t           3801.9628    137.834     27.584      0.000    3522.684    4081.241\n",
      "==============================================================================\n",
      "Omnibus:                        1.955   Durbin-Watson:                   2.118\n",
      "Prob(Omnibus):                  0.376   Jarque-Bera (JB):                1.314\n",
      "Skew:                           0.181   Prob(JB):                        0.519\n",
      "Kurtosis:                       2.177   Cond. No.                         46.9\n",
      "==============================================================================\n",
      "\n",
      "Warnings:\n",
      "[1] Standard Errors assume that the covariance matrix of the errors is correctly specified.\n"
     ]
    }
   ],
   "source": [
    "model = sm.OLS(y, X_pre)\n",
    "fitted_model = model.fit()\n",
    "print(fitted_model.summary())"
   ]
  },
  {
   "cell_type": "markdown",
   "metadata": {},
   "source": [
    "### Compute incremental digital checkouts"
   ]
  },
  {
   "cell_type": "markdown",
   "metadata": {},
   "source": [
    "I can use the model fitted on pre-pandemic data to predict what checkouts should have been in April, May and June without the intervention of the pandemic."
   ]
  },
  {
   "cell_type": "code",
   "execution_count": 18,
   "metadata": {},
   "outputs": [],
   "source": [
    "digital.loc[:, 'predicted'] = fitted_model.predict(sm.add_constant(digital[['t']]))\n",
    "digital.loc[:, 'during_shutdown'] = digital['month_date'] > dt.datetime(year=2020, month=3, day=1)"
   ]
  },
  {
   "cell_type": "markdown",
   "metadata": {},
   "source": [
    "The trend line for digital checkout groth over time is the straight line in blue, and the data for monthly digital checkouts are the blue dots on the graph. The orange dots are the observed digital checkouts during the library shutodwn in April, May and June. The incremental digital checkouts are the difference between the blue trend line and the orange observed digital checkouts"
   ]
  },
  {
   "cell_type": "code",
   "execution_count": 19,
   "metadata": {},
   "outputs": [
    {
     "data": {
      "application/vnd.vegalite.v4+json": {
       "$schema": "https://vega.github.io/schema/vega-lite/v4.8.1.json",
       "config": {
        "view": {
         "continuousHeight": 300,
         "continuousWidth": 400
        }
       },
       "data": {
        "name": "data-2a041370c271bff7dace4e4bc1aaa2d2"
       },
       "datasets": {
        "data-2a041370c271bff7dace4e4bc1aaa2d2": [
         {
          "during_shutdown": false,
          "month_date": "2017-01-01T00:00:00",
          "monthly_checkouts": 185376,
          "predicted": 171523.68205128214,
          "t": 1,
          "usage_class": "Digital"
         },
         {
          "during_shutdown": false,
          "month_date": "2017-02-01T00:00:00",
          "monthly_checkouts": 168370,
          "predicted": 175325.64480431858,
          "t": 2,
          "usage_class": "Digital"
         },
         {
          "during_shutdown": false,
          "month_date": "2017-03-01T00:00:00",
          "monthly_checkouts": 186795,
          "predicted": 179127.60755735502,
          "t": 3,
          "usage_class": "Digital"
         },
         {
          "during_shutdown": false,
          "month_date": "2017-04-01T00:00:00",
          "monthly_checkouts": 184500,
          "predicted": 182929.57031039146,
          "t": 4,
          "usage_class": "Digital"
         },
         {
          "during_shutdown": false,
          "month_date": "2017-05-01T00:00:00",
          "monthly_checkouts": 187126,
          "predicted": 186731.5330634279,
          "t": 5,
          "usage_class": "Digital"
         },
         {
          "during_shutdown": false,
          "month_date": "2017-06-01T00:00:00",
          "monthly_checkouts": 190590,
          "predicted": 190533.49581646433,
          "t": 6,
          "usage_class": "Digital"
         },
         {
          "during_shutdown": false,
          "month_date": "2017-07-01T00:00:00",
          "monthly_checkouts": 198990,
          "predicted": 194335.45856950077,
          "t": 7,
          "usage_class": "Digital"
         },
         {
          "during_shutdown": false,
          "month_date": "2017-08-01T00:00:00",
          "monthly_checkouts": 209142,
          "predicted": 198137.42132253724,
          "t": 8,
          "usage_class": "Digital"
         },
         {
          "during_shutdown": false,
          "month_date": "2017-09-01T00:00:00",
          "monthly_checkouts": 191778,
          "predicted": 201939.38407557365,
          "t": 9,
          "usage_class": "Digital"
         },
         {
          "during_shutdown": false,
          "month_date": "2017-10-01T00:00:00",
          "monthly_checkouts": 198296,
          "predicted": 205741.3468286101,
          "t": 10,
          "usage_class": "Digital"
         },
         {
          "during_shutdown": false,
          "month_date": "2017-11-01T00:00:00",
          "monthly_checkouts": 197227,
          "predicted": 209543.30958164655,
          "t": 11,
          "usage_class": "Digital"
         },
         {
          "during_shutdown": false,
          "month_date": "2017-12-01T00:00:00",
          "monthly_checkouts": 210896,
          "predicted": 213345.272334683,
          "t": 12,
          "usage_class": "Digital"
         },
         {
          "during_shutdown": false,
          "month_date": "2018-01-01T00:00:00",
          "monthly_checkouts": 225361,
          "predicted": 217147.23508771943,
          "t": 13,
          "usage_class": "Digital"
         },
         {
          "during_shutdown": false,
          "month_date": "2018-02-01T00:00:00",
          "monthly_checkouts": 203892,
          "predicted": 220949.19784075586,
          "t": 14,
          "usage_class": "Digital"
         },
         {
          "during_shutdown": false,
          "month_date": "2018-03-01T00:00:00",
          "monthly_checkouts": 227451,
          "predicted": 224751.1605937923,
          "t": 15,
          "usage_class": "Digital"
         },
         {
          "during_shutdown": false,
          "month_date": "2018-04-01T00:00:00",
          "monthly_checkouts": 223897,
          "predicted": 228553.12334682874,
          "t": 16,
          "usage_class": "Digital"
         },
         {
          "during_shutdown": false,
          "month_date": "2018-05-01T00:00:00",
          "monthly_checkouts": 227328,
          "predicted": 232355.08609986518,
          "t": 17,
          "usage_class": "Digital"
         },
         {
          "during_shutdown": false,
          "month_date": "2018-06-01T00:00:00",
          "monthly_checkouts": 233988,
          "predicted": 236157.04885290161,
          "t": 18,
          "usage_class": "Digital"
         },
         {
          "during_shutdown": false,
          "month_date": "2018-07-01T00:00:00",
          "monthly_checkouts": 253747,
          "predicted": 239959.01160593805,
          "t": 19,
          "usage_class": "Digital"
         },
         {
          "during_shutdown": false,
          "month_date": "2018-08-01T00:00:00",
          "monthly_checkouts": 260651,
          "predicted": 243760.9743589745,
          "t": 20,
          "usage_class": "Digital"
         },
         {
          "during_shutdown": false,
          "month_date": "2018-09-01T00:00:00",
          "monthly_checkouts": 243301,
          "predicted": 247562.93711201096,
          "t": 21,
          "usage_class": "Digital"
         },
         {
          "during_shutdown": false,
          "month_date": "2018-10-01T00:00:00",
          "monthly_checkouts": 250071,
          "predicted": 251364.89986504737,
          "t": 22,
          "usage_class": "Digital"
         },
         {
          "during_shutdown": false,
          "month_date": "2018-11-01T00:00:00",
          "monthly_checkouts": 240341,
          "predicted": 255166.86261808383,
          "t": 23,
          "usage_class": "Digital"
         },
         {
          "during_shutdown": false,
          "month_date": "2018-12-01T00:00:00",
          "monthly_checkouts": 253629,
          "predicted": 258968.82537112024,
          "t": 24,
          "usage_class": "Digital"
         },
         {
          "during_shutdown": false,
          "month_date": "2019-01-01T00:00:00",
          "monthly_checkouts": 275985,
          "predicted": 262770.7881241567,
          "t": 25,
          "usage_class": "Digital"
         },
         {
          "during_shutdown": false,
          "month_date": "2019-02-01T00:00:00",
          "monthly_checkouts": 249946,
          "predicted": 266572.7508771931,
          "t": 26,
          "usage_class": "Digital"
         },
         {
          "during_shutdown": false,
          "month_date": "2019-03-01T00:00:00",
          "monthly_checkouts": 270097,
          "predicted": 270374.7136302296,
          "t": 27,
          "usage_class": "Digital"
         },
         {
          "during_shutdown": false,
          "month_date": "2019-04-01T00:00:00",
          "monthly_checkouts": 269302,
          "predicted": 274176.676383266,
          "t": 28,
          "usage_class": "Digital"
         },
         {
          "during_shutdown": false,
          "month_date": "2019-05-01T00:00:00",
          "monthly_checkouts": 278086,
          "predicted": 277978.63913630246,
          "t": 29,
          "usage_class": "Digital"
         },
         {
          "during_shutdown": false,
          "month_date": "2019-06-01T00:00:00",
          "monthly_checkouts": 279311,
          "predicted": 281780.6018893389,
          "t": 30,
          "usage_class": "Digital"
         },
         {
          "during_shutdown": false,
          "month_date": "2019-07-01T00:00:00",
          "monthly_checkouts": 300752,
          "predicted": 285582.56464237534,
          "t": 31,
          "usage_class": "Digital"
         },
         {
          "during_shutdown": false,
          "month_date": "2019-08-01T00:00:00",
          "monthly_checkouts": 304575,
          "predicted": 289384.52739541174,
          "t": 32,
          "usage_class": "Digital"
         },
         {
          "during_shutdown": false,
          "month_date": "2019-09-01T00:00:00",
          "monthly_checkouts": 287419,
          "predicted": 293186.4901484482,
          "t": 33,
          "usage_class": "Digital"
         },
         {
          "during_shutdown": false,
          "month_date": "2019-10-01T00:00:00",
          "monthly_checkouts": 294671,
          "predicted": 296988.4529014847,
          "t": 34,
          "usage_class": "Digital"
         },
         {
          "during_shutdown": false,
          "month_date": "2019-11-01T00:00:00",
          "monthly_checkouts": 289002,
          "predicted": 300790.4156545211,
          "t": 35,
          "usage_class": "Digital"
         },
         {
          "during_shutdown": false,
          "month_date": "2019-12-01T00:00:00",
          "monthly_checkouts": 308176,
          "predicted": 304592.3784075575,
          "t": 36,
          "usage_class": "Digital"
         },
         {
          "during_shutdown": false,
          "month_date": "2020-01-01T00:00:00",
          "monthly_checkouts": 324650,
          "predicted": 308394.34116059396,
          "t": 37,
          "usage_class": "Digital"
         },
         {
          "during_shutdown": false,
          "month_date": "2020-02-01T00:00:00",
          "monthly_checkouts": 300871,
          "predicted": 312196.3039136304,
          "t": 38,
          "usage_class": "Digital"
         },
         {
          "during_shutdown": false,
          "month_date": "2020-03-01T00:00:00",
          "monthly_checkouts": 321092,
          "predicted": 315998.26666666684,
          "t": 39,
          "usage_class": "Digital"
         },
         {
          "during_shutdown": true,
          "month_date": "2020-04-01T00:00:00",
          "monthly_checkouts": 354090,
          "predicted": 319800.22941970325,
          "t": 40,
          "usage_class": "Digital"
         },
         {
          "during_shutdown": true,
          "month_date": "2020-05-01T00:00:00",
          "monthly_checkouts": 383934,
          "predicted": 323602.1921727398,
          "t": 41,
          "usage_class": "Digital"
         },
         {
          "during_shutdown": true,
          "month_date": "2020-06-01T00:00:00",
          "monthly_checkouts": 380269,
          "predicted": 327404.1549257762,
          "t": 42,
          "usage_class": "Digital"
         }
        ]
       },
       "layer": [
        {
         "encoding": {
          "x": {
           "field": "month_date",
           "type": "temporal"
          },
          "y": {
           "field": "predicted",
           "type": "quantitative"
          }
         },
         "mark": "line"
        },
        {
         "encoding": {
          "color": {
           "field": "during_shutdown",
           "type": "nominal"
          },
          "x": {
           "field": "month_date",
           "type": "temporal"
          },
          "y": {
           "field": "monthly_checkouts",
           "type": "quantitative"
          }
         },
         "mark": "point"
        }
       ]
      },
      "image/png": "[encoded data removed]",
      "text/plain": [
       "<VegaLite 4 object>\n",
       "\n",
       "If you see this message, it means the renderer has not been properly enabled\n",
       "for the frontend that you are using. For more information, see\n",
       "https://altair-viz.github.io/user_guide/troubleshooting.html\n"
      ]
     },
     "execution_count": 19,
     "metadata": {},
     "output_type": "execute_result"
    }
   ],
   "source": [
    "regression_line = alt.Chart(digital).mark_line().encode(\n",
    "    x='month_date',\n",
    "    y='predicted'\n",
    ")\n",
    "\n",
    "data_points = alt.Chart(digital).mark_point().encode(\n",
    "    x='month_date',\n",
    "    y='monthly_checkouts',\n",
    "    color='during_shutdown'\n",
    ")\n",
    "\n",
    "regression_line + data_points"
   ]
  },
  {
   "cell_type": "markdown",
   "metadata": {},
   "source": [
    "There were about 147,500 incremental digital checkouts total in April, May and June for an average incremental increase in checkouts of 13%. There are typically around 350,000 physical book checkouts each month, so the incremental increase in digital checkouts does not do much to offset the decrease in physical library usage."
   ]
  },
  {
   "cell_type": "code",
   "execution_count": 20,
   "metadata": {},
   "outputs": [
    {
     "data": {
      "text/html": [
       "<div>\n",
       "<style scoped>\n",
       "    .dataframe tbody tr th:only-of-type {\n",
       "        vertical-align: middle;\n",
       "    }\n",
       "\n",
       "    .dataframe tbody tr th {\n",
       "        vertical-align: top;\n",
       "    }\n",
       "\n",
       "    .dataframe thead th {\n",
       "        text-align: right;\n",
       "    }\n",
       "</style>\n",
       "<table border=\"1\" class=\"dataframe\">\n",
       "  <thead>\n",
       "    <tr style=\"text-align: right;\">\n",
       "      <th></th>\n",
       "      <th>month_date</th>\n",
       "      <th>usage_class</th>\n",
       "      <th>monthly_checkouts</th>\n",
       "      <th>t</th>\n",
       "      <th>preds</th>\n",
       "      <th>increase</th>\n",
       "      <th>pct_increase</th>\n",
       "    </tr>\n",
       "  </thead>\n",
       "  <tbody>\n",
       "    <tr>\n",
       "      <th>5</th>\n",
       "      <td>2020-04-01</td>\n",
       "      <td>Digital</td>\n",
       "      <td>354090</td>\n",
       "      <td>40</td>\n",
       "      <td>319800.229420</td>\n",
       "      <td>34289.770580</td>\n",
       "      <td>0.096839</td>\n",
       "    </tr>\n",
       "    <tr>\n",
       "      <th>16</th>\n",
       "      <td>2020-05-01</td>\n",
       "      <td>Digital</td>\n",
       "      <td>383934</td>\n",
       "      <td>41</td>\n",
       "      <td>323602.192173</td>\n",
       "      <td>60331.807827</td>\n",
       "      <td>0.157141</td>\n",
       "    </tr>\n",
       "    <tr>\n",
       "      <th>49</th>\n",
       "      <td>2020-06-01</td>\n",
       "      <td>Digital</td>\n",
       "      <td>380269</td>\n",
       "      <td>42</td>\n",
       "      <td>327404.154926</td>\n",
       "      <td>52864.845074</td>\n",
       "      <td>0.139020</td>\n",
       "    </tr>\n",
       "  </tbody>\n",
       "</table>\n",
       "</div>"
      ],
      "text/plain": [
       "   month_date usage_class  monthly_checkouts   t          preds      increase  \\\n",
       "5  2020-04-01     Digital             354090  40  319800.229420  34289.770580   \n",
       "16 2020-05-01     Digital             383934  41  323602.192173  60331.807827   \n",
       "49 2020-06-01     Digital             380269  42  327404.154926  52864.845074   \n",
       "\n",
       "    pct_increase  \n",
       "5       0.096839  \n",
       "16      0.157141  \n",
       "49      0.139020  "
      ]
     },
     "execution_count": 20,
     "metadata": {},
     "output_type": "execute_result"
    }
   ],
   "source": [
    "preds = fitted_model.predict(X_post)\n",
    "post.loc[:, 'preds'] = preds\n",
    "post.loc[:, 'increase'] = post['monthly_checkouts'] - post['preds']\n",
    "post.loc[:, 'pct_increase'] = post.loc[:, 'increase'] / post.loc[:, 'monthly_checkouts']\n",
    "post"
   ]
  },
  {
   "cell_type": "code",
   "execution_count": 21,
   "metadata": {},
   "outputs": [
    {
     "data": {
      "text/plain": [
       "147486.4234817808"
      ]
     },
     "execution_count": 21,
     "metadata": {},
     "output_type": "execute_result"
    }
   ],
   "source": [
    "post['increase'].sum()"
   ]
  },
  {
   "cell_type": "code",
   "execution_count": 22,
   "metadata": {},
   "outputs": [
    {
     "data": {
      "text/plain": [
       "0.13099994406619606"
      ]
     },
     "execution_count": 22,
     "metadata": {},
     "output_type": "execute_result"
    }
   ],
   "source": [
    "post['pct_increase'].mean()"
   ]
  }
 ],
 "metadata": {
  "kernelspec": {
   "display_name": "bookenv",
   "language": "python",
   "name": "bookenv"
  },
  "language_info": {
   "codemirror_mode": {
    "name": "ipython",
    "version": 3
   },
   "file_extension": ".py",
   "mimetype": "text/x-python",
   "name": "python",
   "nbconvert_exporter": "python",
   "pygments_lexer": "ipython3",
   "version": "3.8.3"
  }
 },
 "nbformat": 4,
 "nbformat_minor": 4
}
