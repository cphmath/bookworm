{
 "cells": [
  {
   "cell_type": "code",
   "execution_count": 1,
   "metadata": {},
   "outputs": [],
   "source": [
    "import pandas as pd\n",
    "import numpy as np\n",
    "from sodapy import Socrata\n",
    "import datetime as dt\n",
    "import matplotlib.pyplot as plt\n",
    "import altair as alt\n",
    "from sklearn.linear_model import LinearRegression \n",
    "import statsmodels.api as sm\n",
    "from statsmodels.sandbox.regression.predstd import wls_prediction_std"
   ]
  },
  {
   "cell_type": "code",
   "execution_count": 2,
   "metadata": {},
   "outputs": [],
   "source": [
    "import os\n",
    "os.chdir('../')"
   ]
  },
  {
   "cell_type": "code",
   "execution_count": 3,
   "metadata": {},
   "outputs": [],
   "source": [
    "import yaml\n",
    "\n",
    "with open(\"config.yml\", 'r') as ymlfile:\n",
    "    cfg = yaml.safe_load(ymlfile)"
   ]
  },
  {
   "cell_type": "code",
   "execution_count": 4,
   "metadata": {},
   "outputs": [],
   "source": [
    "client = Socrata(\"data.seattle.gov\", app_token=cfg['app_token'])"
   ]
  },
  {
   "cell_type": "code",
   "execution_count": 8,
   "metadata": {},
   "outputs": [],
   "source": [
    "query = \"\"\"\n",
    "SELECT\n",
    "  usageclass,\n",
    "  checkoutmonth, \n",
    "  checkoutyear, \n",
    "  sum(checkouts) as monthly_checkouts\n",
    "WHERE\n",
    "  checkoutyear >= 2017\n",
    "  and (materialtype = 'EBOOK' or materialtype = 'AUDIOBOOK' or materialtype = 'BOOK')\n",
    "GROUP BY\n",
    "  usageclass, checkoutmonth, checkoutyear\n",
    "\"\"\""
   ]
  },
  {
   "cell_type": "code",
   "execution_count": 9,
   "metadata": {},
   "outputs": [],
   "source": [
    "result = client.get('tmmm-ytt6', query=query)"
   ]
  },
  {
   "cell_type": "code",
   "execution_count": 10,
   "metadata": {},
   "outputs": [],
   "source": [
    "df = pd.DataFrame.from_records(result)"
   ]
  },
  {
   "cell_type": "code",
   "execution_count": 12,
   "metadata": {},
   "outputs": [],
   "source": [
    "df['usageclass'] = df['usageclass'].astype('str')\n",
    "df['checkoutmonth'] = df['checkoutmonth'].astype('int')\n",
    "df['checkoutyear'] = df['checkoutyear'].astype('int')\n",
    "df['monthly_checkouts'] = df['monthly_checkouts'].astype('int')\n",
    "df['date'] = df.apply(lambda x: dt.datetime(year=x['checkoutyear'], month=x['checkoutmonth'], day=1), axis=1)"
   ]
  },
  {
   "cell_type": "code",
   "execution_count": 14,
   "metadata": {},
   "outputs": [
    {
     "data": {
      "text/html": [
       "\n",
       "<div id=\"altair-viz-bb0be11b708e486f9a4f1b836b34bd9f\"></div>\n",
       "<script type=\"text/javascript\">\n",
       "  (function(spec, embedOpt){\n",
       "    let outputDiv = document.currentScript.previousElementSibling;\n",
       "    if (outputDiv.id !== \"altair-viz-bb0be11b708e486f9a4f1b836b34bd9f\") {\n",
       "      outputDiv = document.getElementById(\"altair-viz-bb0be11b708e486f9a4f1b836b34bd9f\");\n",
       "    }\n",
       "    const paths = {\n",
       "      \"vega\": \"https://cdn.jsdelivr.net/npm//vega@5?noext\",\n",
       "      \"vega-lib\": \"https://cdn.jsdelivr.net/npm//vega-lib?noext\",\n",
       "      \"vega-lite\": \"https://cdn.jsdelivr.net/npm//vega-lite@4.8.1?noext\",\n",
       "      \"vega-embed\": \"https://cdn.jsdelivr.net/npm//vega-embed@6?noext\",\n",
       "    };\n",
       "\n",
       "    function loadScript(lib) {\n",
       "      return new Promise(function(resolve, reject) {\n",
       "        var s = document.createElement('script');\n",
       "        s.src = paths[lib];\n",
       "        s.async = true;\n",
       "        s.onload = () => resolve(paths[lib]);\n",
       "        s.onerror = () => reject(`Error loading script: ${paths[lib]}`);\n",
       "        document.getElementsByTagName(\"head\")[0].appendChild(s);\n",
       "      });\n",
       "    }\n",
       "\n",
       "    function showError(err) {\n",
       "      outputDiv.innerHTML = `<div class=\"error\" style=\"color:red;\">${err}</div>`;\n",
       "      throw err;\n",
       "    }\n",
       "\n",
       "    function displayChart(vegaEmbed) {\n",
       "      vegaEmbed(outputDiv, spec, embedOpt)\n",
       "        .catch(err => showError(`Javascript Error: ${err.message}<br>This usually means there's a typo in your chart specification. See the javascript console for the full traceback.`));\n",
       "    }\n",
       "\n",
       "    if(typeof define === \"function\" && define.amd) {\n",
       "      requirejs.config({paths});\n",
       "      require([\"vega-embed\"], displayChart, err => showError(`Error loading script: ${err.message}`));\n",
       "    } else if (typeof vegaEmbed === \"function\") {\n",
       "      displayChart(vegaEmbed);\n",
       "    } else {\n",
       "      loadScript(\"vega\")\n",
       "        .then(() => loadScript(\"vega-lite\"))\n",
       "        .then(() => loadScript(\"vega-embed\"))\n",
       "        .catch(showError)\n",
       "        .then(() => displayChart(vegaEmbed));\n",
       "    }\n",
       "  })({\"config\": {\"view\": {\"continuousWidth\": 400, \"continuousHeight\": 300}}, \"data\": {\"name\": \"data-ecd078736220160b4bb92e2dc5c6be17\"}, \"mark\": \"line\", \"encoding\": {\"color\": {\"type\": \"nominal\", \"field\": \"usageclass\"}, \"x\": {\"type\": \"temporal\", \"field\": \"date\"}, \"y\": {\"type\": \"quantitative\", \"field\": \"monthly_checkouts\"}}, \"$schema\": \"https://vega.github.io/schema/vega-lite/v4.8.1.json\", \"datasets\": {\"data-ecd078736220160b4bb92e2dc5c6be17\": [{\"usageclass\": \"Digital\", \"checkoutmonth\": 3, \"checkoutyear\": 2020, \"monthly_checkouts\": 321092, \"date\": \"2020-03-01T00:00:00\"}, {\"usageclass\": \"Digital\", \"checkoutmonth\": 1, \"checkoutyear\": 2020, \"monthly_checkouts\": 324650, \"date\": \"2020-01-01T00:00:00\"}, {\"usageclass\": \"Physical\", \"checkoutmonth\": 9, \"checkoutyear\": 2018, \"monthly_checkouts\": 319587, \"date\": \"2018-09-01T00:00:00\"}, {\"usageclass\": \"Digital\", \"checkoutmonth\": 9, \"checkoutyear\": 2017, \"monthly_checkouts\": 191778, \"date\": \"2017-09-01T00:00:00\"}, {\"usageclass\": \"Physical\", \"checkoutmonth\": 6, \"checkoutyear\": 2020, \"monthly_checkouts\": 43, \"date\": \"2020-06-01T00:00:00\"}, {\"usageclass\": \"Digital\", \"checkoutmonth\": 4, \"checkoutyear\": 2020, \"monthly_checkouts\": 354090, \"date\": \"2020-04-01T00:00:00\"}, {\"usageclass\": \"Physical\", \"checkoutmonth\": 9, \"checkoutyear\": 2019, \"monthly_checkouts\": 328773, \"date\": \"2019-09-01T00:00:00\"}, {\"usageclass\": \"Digital\", \"checkoutmonth\": 5, \"checkoutyear\": 2018, \"monthly_checkouts\": 227328, \"date\": \"2018-05-01T00:00:00\"}, {\"usageclass\": \"Physical\", \"checkoutmonth\": 5, \"checkoutyear\": 2017, \"monthly_checkouts\": 314535, \"date\": \"2017-05-01T00:00:00\"}, {\"usageclass\": \"Digital\", \"checkoutmonth\": 5, \"checkoutyear\": 2019, \"monthly_checkouts\": 278086, \"date\": \"2019-05-01T00:00:00\"}, {\"usageclass\": \"Physical\", \"checkoutmonth\": 8, \"checkoutyear\": 2017, \"monthly_checkouts\": 353581, \"date\": \"2017-08-01T00:00:00\"}, {\"usageclass\": \"Digital\", \"checkoutmonth\": 8, \"checkoutyear\": 2018, \"monthly_checkouts\": 260651, \"date\": \"2018-08-01T00:00:00\"}, {\"usageclass\": \"Physical\", \"checkoutmonth\": 2, \"checkoutyear\": 2020, \"monthly_checkouts\": 317946, \"date\": \"2020-02-01T00:00:00\"}, {\"usageclass\": \"Digital\", \"checkoutmonth\": 8, \"checkoutyear\": 2019, \"monthly_checkouts\": 304575, \"date\": \"2019-08-01T00:00:00\"}, {\"usageclass\": \"Digital\", \"checkoutmonth\": 10, \"checkoutyear\": 2019, \"monthly_checkouts\": 294671, \"date\": \"2019-10-01T00:00:00\"}, {\"usageclass\": \"Digital\", \"checkoutmonth\": 7, \"checkoutyear\": 2019, \"monthly_checkouts\": 300752, \"date\": \"2019-07-01T00:00:00\"}, {\"usageclass\": \"Digital\", \"checkoutmonth\": 5, \"checkoutyear\": 2020, \"monthly_checkouts\": 383934, \"date\": \"2020-05-01T00:00:00\"}, {\"usageclass\": \"Physical\", \"checkoutmonth\": 7, \"checkoutyear\": 2017, \"monthly_checkouts\": 363403, \"date\": \"2017-07-01T00:00:00\"}, {\"usageclass\": \"Digital\", \"checkoutmonth\": 7, \"checkoutyear\": 2018, \"monthly_checkouts\": 253747, \"date\": \"2018-07-01T00:00:00\"}, {\"usageclass\": \"Digital\", \"checkoutmonth\": 10, \"checkoutyear\": 2018, \"monthly_checkouts\": 250071, \"date\": \"2018-10-01T00:00:00\"}, {\"usageclass\": \"Physical\", \"checkoutmonth\": 10, \"checkoutyear\": 2017, \"monthly_checkouts\": 342200, \"date\": \"2017-10-01T00:00:00\"}, {\"usageclass\": \"Digital\", \"checkoutmonth\": 6, \"checkoutyear\": 2017, \"monthly_checkouts\": 190590, \"date\": \"2017-06-01T00:00:00\"}, {\"usageclass\": \"Physical\", \"checkoutmonth\": 4, \"checkoutyear\": 2017, \"monthly_checkouts\": 323798, \"date\": \"2017-04-01T00:00:00\"}, {\"usageclass\": \"Digital\", \"checkoutmonth\": 12, \"checkoutyear\": 2018, \"monthly_checkouts\": 253629, \"date\": \"2018-12-01T00:00:00\"}, {\"usageclass\": \"Physical\", \"checkoutmonth\": 12, \"checkoutyear\": 2017, \"monthly_checkouts\": 304713, \"date\": \"2017-12-01T00:00:00\"}, {\"usageclass\": \"Physical\", \"checkoutmonth\": 6, \"checkoutyear\": 2018, \"monthly_checkouts\": 341825, \"date\": \"2018-06-01T00:00:00\"}, {\"usageclass\": \"Digital\", \"checkoutmonth\": 4, \"checkoutyear\": 2018, \"monthly_checkouts\": 223897, \"date\": \"2018-04-01T00:00:00\"}, {\"usageclass\": \"Physical\", \"checkoutmonth\": 6, \"checkoutyear\": 2019, \"monthly_checkouts\": 331914, \"date\": \"2019-06-01T00:00:00\"}, {\"usageclass\": \"Digital\", \"checkoutmonth\": 4, \"checkoutyear\": 2019, \"monthly_checkouts\": 269302, \"date\": \"2019-04-01T00:00:00\"}, {\"usageclass\": \"Digital\", \"checkoutmonth\": 12, \"checkoutyear\": 2019, \"monthly_checkouts\": 308176, \"date\": \"2019-12-01T00:00:00\"}, {\"usageclass\": \"Physical\", \"checkoutmonth\": 2, \"checkoutyear\": 2018, \"monthly_checkouts\": 309813, \"date\": \"2018-02-01T00:00:00\"}, {\"usageclass\": \"Digital\", \"checkoutmonth\": 2, \"checkoutyear\": 2017, \"monthly_checkouts\": 168370, \"date\": \"2017-02-01T00:00:00\"}, {\"usageclass\": \"Physical\", \"checkoutmonth\": 2, \"checkoutyear\": 2019, \"monthly_checkouts\": 299465, \"date\": \"2019-02-01T00:00:00\"}, {\"usageclass\": \"Physical\", \"checkoutmonth\": 11, \"checkoutyear\": 2018, \"monthly_checkouts\": 325249, \"date\": \"2018-11-01T00:00:00\"}, {\"usageclass\": \"Digital\", \"checkoutmonth\": 11, \"checkoutyear\": 2017, \"monthly_checkouts\": 197227, \"date\": \"2017-11-01T00:00:00\"}, {\"usageclass\": \"Physical\", \"checkoutmonth\": 11, \"checkoutyear\": 2019, \"monthly_checkouts\": 323796, \"date\": \"2019-11-01T00:00:00\"}, {\"usageclass\": \"Physical\", \"checkoutmonth\": 1, \"checkoutyear\": 2017, \"monthly_checkouts\": 331830, \"date\": \"2017-01-01T00:00:00\"}, {\"usageclass\": \"Digital\", \"checkoutmonth\": 1, \"checkoutyear\": 2018, \"monthly_checkouts\": 225361, \"date\": \"2018-01-01T00:00:00\"}, {\"usageclass\": \"Physical\", \"checkoutmonth\": 3, \"checkoutyear\": 2017, \"monthly_checkouts\": 339645, \"date\": \"2017-03-01T00:00:00\"}, {\"usageclass\": \"Digital\", \"checkoutmonth\": 3, \"checkoutyear\": 2018, \"monthly_checkouts\": 227451, \"date\": \"2018-03-01T00:00:00\"}, {\"usageclass\": \"Digital\", \"checkoutmonth\": 3, \"checkoutyear\": 2019, \"monthly_checkouts\": 270097, \"date\": \"2019-03-01T00:00:00\"}, {\"usageclass\": \"Digital\", \"checkoutmonth\": 1, \"checkoutyear\": 2019, \"monthly_checkouts\": 275985, \"date\": \"2019-01-01T00:00:00\"}, {\"usageclass\": \"Digital\", \"checkoutmonth\": 2, \"checkoutyear\": 2020, \"monthly_checkouts\": 300871, \"date\": \"2020-02-01T00:00:00\"}, {\"usageclass\": \"Digital\", \"checkoutmonth\": 8, \"checkoutyear\": 2017, \"monthly_checkouts\": 209142, \"date\": \"2017-08-01T00:00:00\"}, {\"usageclass\": \"Physical\", \"checkoutmonth\": 8, \"checkoutyear\": 2018, \"monthly_checkouts\": 352977, \"date\": \"2018-08-01T00:00:00\"}, {\"usageclass\": \"Physical\", \"checkoutmonth\": 8, \"checkoutyear\": 2019, \"monthly_checkouts\": 340723, \"date\": \"2019-08-01T00:00:00\"}, {\"usageclass\": \"Physical\", \"checkoutmonth\": 5, \"checkoutyear\": 2018, \"monthly_checkouts\": 318049, \"date\": \"2018-05-01T00:00:00\"}, {\"usageclass\": \"Digital\", \"checkoutmonth\": 5, \"checkoutyear\": 2017, \"monthly_checkouts\": 187126, \"date\": \"2017-05-01T00:00:00\"}, {\"usageclass\": \"Physical\", \"checkoutmonth\": 5, \"checkoutyear\": 2019, \"monthly_checkouts\": 314565, \"date\": \"2019-05-01T00:00:00\"}, {\"usageclass\": \"Digital\", \"checkoutmonth\": 6, \"checkoutyear\": 2020, \"monthly_checkouts\": 380269, \"date\": \"2020-06-01T00:00:00\"}, {\"usageclass\": \"Physical\", \"checkoutmonth\": 4, \"checkoutyear\": 2020, \"monthly_checkouts\": 70, \"date\": \"2020-04-01T00:00:00\"}, {\"usageclass\": \"Digital\", \"checkoutmonth\": 9, \"checkoutyear\": 2018, \"monthly_checkouts\": 243301, \"date\": \"2018-09-01T00:00:00\"}, {\"usageclass\": \"Physical\", \"checkoutmonth\": 9, \"checkoutyear\": 2017, \"monthly_checkouts\": 331058, \"date\": \"2017-09-01T00:00:00\"}, {\"usageclass\": \"Digital\", \"checkoutmonth\": 9, \"checkoutyear\": 2019, \"monthly_checkouts\": 287419, \"date\": \"2019-09-01T00:00:00\"}, {\"usageclass\": \"Physical\", \"checkoutmonth\": 1, \"checkoutyear\": 2020, \"monthly_checkouts\": 343328, \"date\": \"2020-01-01T00:00:00\"}, {\"usageclass\": \"Physical\", \"checkoutmonth\": 3, \"checkoutyear\": 2020, \"monthly_checkouts\": 215128, \"date\": \"2020-03-01T00:00:00\"}, {\"usageclass\": \"Digital\", \"checkoutmonth\": 3, \"checkoutyear\": 2017, \"monthly_checkouts\": 186795, \"date\": \"2017-03-01T00:00:00\"}, {\"usageclass\": \"Physical\", \"checkoutmonth\": 3, \"checkoutyear\": 2018, \"monthly_checkouts\": 344487, \"date\": \"2018-03-01T00:00:00\"}, {\"usageclass\": \"Digital\", \"checkoutmonth\": 1, \"checkoutyear\": 2017, \"monthly_checkouts\": 185376, \"date\": \"2017-01-01T00:00:00\"}, {\"usageclass\": \"Physical\", \"checkoutmonth\": 1, \"checkoutyear\": 2018, \"monthly_checkouts\": 355101, \"date\": \"2018-01-01T00:00:00\"}, {\"usageclass\": \"Physical\", \"checkoutmonth\": 1, \"checkoutyear\": 2019, \"monthly_checkouts\": 352288, \"date\": \"2019-01-01T00:00:00\"}, {\"usageclass\": \"Physical\", \"checkoutmonth\": 3, \"checkoutyear\": 2019, \"monthly_checkouts\": 326457, \"date\": \"2019-03-01T00:00:00\"}, {\"usageclass\": \"Digital\", \"checkoutmonth\": 11, \"checkoutyear\": 2018, \"monthly_checkouts\": 240341, \"date\": \"2018-11-01T00:00:00\"}, {\"usageclass\": \"Physical\", \"checkoutmonth\": 11, \"checkoutyear\": 2017, \"monthly_checkouts\": 335034, \"date\": \"2017-11-01T00:00:00\"}, {\"usageclass\": \"Digital\", \"checkoutmonth\": 11, \"checkoutyear\": 2019, \"monthly_checkouts\": 289002, \"date\": \"2019-11-01T00:00:00\"}, {\"usageclass\": \"Digital\", \"checkoutmonth\": 2, \"checkoutyear\": 2018, \"monthly_checkouts\": 203892, \"date\": \"2018-02-01T00:00:00\"}, {\"usageclass\": \"Physical\", \"checkoutmonth\": 2, \"checkoutyear\": 2017, \"monthly_checkouts\": 299992, \"date\": \"2017-02-01T00:00:00\"}, {\"usageclass\": \"Digital\", \"checkoutmonth\": 2, \"checkoutyear\": 2019, \"monthly_checkouts\": 249946, \"date\": \"2019-02-01T00:00:00\"}, {\"usageclass\": \"Physical\", \"checkoutmonth\": 6, \"checkoutyear\": 2017, \"monthly_checkouts\": 331804, \"date\": \"2017-06-01T00:00:00\"}, {\"usageclass\": \"Digital\", \"checkoutmonth\": 4, \"checkoutyear\": 2017, \"monthly_checkouts\": 184500, \"date\": \"2017-04-01T00:00:00\"}, {\"usageclass\": \"Physical\", \"checkoutmonth\": 12, \"checkoutyear\": 2018, \"monthly_checkouts\": 299789, \"date\": \"2018-12-01T00:00:00\"}, {\"usageclass\": \"Digital\", \"checkoutmonth\": 12, \"checkoutyear\": 2017, \"monthly_checkouts\": 210896, \"date\": \"2017-12-01T00:00:00\"}, {\"usageclass\": \"Digital\", \"checkoutmonth\": 6, \"checkoutyear\": 2018, \"monthly_checkouts\": 233988, \"date\": \"2018-06-01T00:00:00\"}, {\"usageclass\": \"Physical\", \"checkoutmonth\": 4, \"checkoutyear\": 2018, \"monthly_checkouts\": 330988, \"date\": \"2018-04-01T00:00:00\"}, {\"usageclass\": \"Digital\", \"checkoutmonth\": 6, \"checkoutyear\": 2019, \"monthly_checkouts\": 279311, \"date\": \"2019-06-01T00:00:00\"}, {\"usageclass\": \"Physical\", \"checkoutmonth\": 4, \"checkoutyear\": 2019, \"monthly_checkouts\": 326988, \"date\": \"2019-04-01T00:00:00\"}, {\"usageclass\": \"Physical\", \"checkoutmonth\": 12, \"checkoutyear\": 2019, \"monthly_checkouts\": 295736, \"date\": \"2019-12-01T00:00:00\"}, {\"usageclass\": \"Physical\", \"checkoutmonth\": 7, \"checkoutyear\": 2019, \"monthly_checkouts\": 356688, \"date\": \"2019-07-01T00:00:00\"}, {\"usageclass\": \"Physical\", \"checkoutmonth\": 5, \"checkoutyear\": 2020, \"monthly_checkouts\": 87, \"date\": \"2020-05-01T00:00:00\"}, {\"usageclass\": \"Physical\", \"checkoutmonth\": 10, \"checkoutyear\": 2019, \"monthly_checkouts\": 334295, \"date\": \"2019-10-01T00:00:00\"}, {\"usageclass\": \"Physical\", \"checkoutmonth\": 10, \"checkoutyear\": 2018, \"monthly_checkouts\": 338497, \"date\": \"2018-10-01T00:00:00\"}, {\"usageclass\": \"Digital\", \"checkoutmonth\": 10, \"checkoutyear\": 2017, \"monthly_checkouts\": 198296, \"date\": \"2017-10-01T00:00:00\"}, {\"usageclass\": \"Digital\", \"checkoutmonth\": 7, \"checkoutyear\": 2017, \"monthly_checkouts\": 198990, \"date\": \"2017-07-01T00:00:00\"}, {\"usageclass\": \"Physical\", \"checkoutmonth\": 7, \"checkoutyear\": 2018, \"monthly_checkouts\": 351207, \"date\": \"2018-07-01T00:00:00\"}]}}, {\"mode\": \"vega-lite\"});\n",
       "</script>"
      ],
      "text/plain": [
       "alt.Chart(...)"
      ]
     },
     "execution_count": 14,
     "metadata": {},
     "output_type": "execute_result"
    }
   ],
   "source": [
    "alt.Chart(df).mark_line().encode(\n",
    "    x='date',\n",
    "    y='monthly_checkouts',\n",
    "    color='usageclass'\n",
    ")"
   ]
  },
  {
   "cell_type": "markdown",
   "metadata": {},
   "source": [
    "### What increase in digital book checkouts is due to covid-19?"
   ]
  },
  {
   "cell_type": "code",
   "execution_count": 16,
   "metadata": {},
   "outputs": [],
   "source": [
    "digital = df[df['usageclass']=='Digital'].sort_values(by=['date'])"
   ]
  },
  {
   "cell_type": "code",
   "execution_count": 18,
   "metadata": {},
   "outputs": [
    {
     "data": {
      "text/html": [
       "<div>\n",
       "<style scoped>\n",
       "    .dataframe tbody tr th:only-of-type {\n",
       "        vertical-align: middle;\n",
       "    }\n",
       "\n",
       "    .dataframe tbody tr th {\n",
       "        vertical-align: top;\n",
       "    }\n",
       "\n",
       "    .dataframe thead th {\n",
       "        text-align: right;\n",
       "    }\n",
       "</style>\n",
       "<table border=\"1\" class=\"dataframe\">\n",
       "  <thead>\n",
       "    <tr style=\"text-align: right;\">\n",
       "      <th></th>\n",
       "      <th>usageclass</th>\n",
       "      <th>checkoutmonth</th>\n",
       "      <th>checkoutyear</th>\n",
       "      <th>monthly_checkouts</th>\n",
       "      <th>date</th>\n",
       "    </tr>\n",
       "  </thead>\n",
       "  <tbody>\n",
       "    <tr>\n",
       "      <th>58</th>\n",
       "      <td>Digital</td>\n",
       "      <td>1</td>\n",
       "      <td>2017</td>\n",
       "      <td>185376</td>\n",
       "      <td>2017-01-01</td>\n",
       "    </tr>\n",
       "    <tr>\n",
       "      <th>31</th>\n",
       "      <td>Digital</td>\n",
       "      <td>2</td>\n",
       "      <td>2017</td>\n",
       "      <td>168370</td>\n",
       "      <td>2017-02-01</td>\n",
       "    </tr>\n",
       "    <tr>\n",
       "      <th>56</th>\n",
       "      <td>Digital</td>\n",
       "      <td>3</td>\n",
       "      <td>2017</td>\n",
       "      <td>186795</td>\n",
       "      <td>2017-03-01</td>\n",
       "    </tr>\n",
       "    <tr>\n",
       "      <th>69</th>\n",
       "      <td>Digital</td>\n",
       "      <td>4</td>\n",
       "      <td>2017</td>\n",
       "      <td>184500</td>\n",
       "      <td>2017-04-01</td>\n",
       "    </tr>\n",
       "    <tr>\n",
       "      <th>47</th>\n",
       "      <td>Digital</td>\n",
       "      <td>5</td>\n",
       "      <td>2017</td>\n",
       "      <td>187126</td>\n",
       "      <td>2017-05-01</td>\n",
       "    </tr>\n",
       "  </tbody>\n",
       "</table>\n",
       "</div>"
      ],
      "text/plain": [
       "   usageclass  checkoutmonth  checkoutyear  monthly_checkouts       date\n",
       "58    Digital              1          2017             185376 2017-01-01\n",
       "31    Digital              2          2017             168370 2017-02-01\n",
       "56    Digital              3          2017             186795 2017-03-01\n",
       "69    Digital              4          2017             184500 2017-04-01\n",
       "47    Digital              5          2017             187126 2017-05-01"
      ]
     },
     "execution_count": 18,
     "metadata": {},
     "output_type": "execute_result"
    }
   ],
   "source": [
    "digital.head()"
   ]
  },
  {
   "cell_type": "code",
   "execution_count": 19,
   "metadata": {},
   "outputs": [],
   "source": [
    "digital['t'] = np.arange(1, len(digital) + 1)"
   ]
  },
  {
   "cell_type": "code",
   "execution_count": 20,
   "metadata": {},
   "outputs": [],
   "source": [
    "def split_on_date(data, date):\n",
    "    pre = data[data['date'] < date]\n",
    "    post = data[data['date'] >= date]\n",
    "    return pre, post"
   ]
  },
  {
   "cell_type": "code",
   "execution_count": 21,
   "metadata": {},
   "outputs": [],
   "source": [
    "pre, post = split_on_date(digital, '2020-03-01')"
   ]
  },
  {
   "cell_type": "code",
   "execution_count": 22,
   "metadata": {},
   "outputs": [],
   "source": [
    "fake_pre, fake_post = split_on_date(pre, '2019-12-01')"
   ]
  },
  {
   "cell_type": "code",
   "execution_count": 23,
   "metadata": {},
   "outputs": [],
   "source": [
    "X_fake_pre = sm.add_constant(fake_pre[['t']])\n",
    "X_fake_post = sm.add_constant(fake_post[['t']])\n",
    "y_fake_pre = fake_pre[['monthly_checkouts']]"
   ]
  },
  {
   "cell_type": "code",
   "execution_count": 24,
   "metadata": {},
   "outputs": [],
   "source": [
    "test_model = sm.OLS(y_fake_pre, X_fake_pre)"
   ]
  },
  {
   "cell_type": "code",
   "execution_count": 25,
   "metadata": {},
   "outputs": [],
   "source": [
    "test_results = test_model.fit()"
   ]
  },
  {
   "cell_type": "code",
   "execution_count": 26,
   "metadata": {},
   "outputs": [
    {
     "data": {
      "text/html": [
       "<table class=\"simpletable\">\n",
       "<caption>OLS Regression Results</caption>\n",
       "<tr>\n",
       "  <th>Dep. Variable:</th>    <td>monthly_checkouts</td> <th>  R-squared:         </th> <td>   0.943</td>\n",
       "</tr>\n",
       "<tr>\n",
       "  <th>Model:</th>                   <td>OLS</td>        <th>  Adj. R-squared:    </th> <td>   0.941</td>\n",
       "</tr>\n",
       "<tr>\n",
       "  <th>Method:</th>             <td>Least Squares</td>   <th>  F-statistic:       </th> <td>   543.4</td>\n",
       "</tr>\n",
       "<tr>\n",
       "  <th>Date:</th>             <td>Tue, 21 Jul 2020</td>  <th>  Prob (F-statistic):</th> <td>4.52e-22</td>\n",
       "</tr>\n",
       "<tr>\n",
       "  <th>Time:</th>                 <td>10:58:40</td>      <th>  Log-Likelihood:    </th> <td> -369.43</td>\n",
       "</tr>\n",
       "<tr>\n",
       "  <th>No. Observations:</th>      <td>    35</td>       <th>  AIC:               </th> <td>   742.9</td>\n",
       "</tr>\n",
       "<tr>\n",
       "  <th>Df Residuals:</th>          <td>    33</td>       <th>  BIC:               </th> <td>   746.0</td>\n",
       "</tr>\n",
       "<tr>\n",
       "  <th>Df Model:</th>              <td>     1</td>       <th>                     </th>     <td> </td>   \n",
       "</tr>\n",
       "<tr>\n",
       "  <th>Covariance Type:</th>      <td>nonrobust</td>     <th>                     </th>     <td> </td>   \n",
       "</tr>\n",
       "</table>\n",
       "<table class=\"simpletable\">\n",
       "<tr>\n",
       "    <td></td>       <th>coef</th>     <th>std err</th>      <th>t</th>      <th>P>|t|</th>  <th>[0.025</th>    <th>0.975]</th>  \n",
       "</tr>\n",
       "<tr>\n",
       "  <th>const</th> <td> 1.686e+05</td> <td> 3303.418</td> <td>   51.042</td> <td> 0.000</td> <td> 1.62e+05</td> <td> 1.75e+05</td>\n",
       "</tr>\n",
       "<tr>\n",
       "  <th>t</th>     <td> 3730.8633</td> <td>  160.051</td> <td>   23.310</td> <td> 0.000</td> <td> 3405.237</td> <td> 4056.490</td>\n",
       "</tr>\n",
       "</table>\n",
       "<table class=\"simpletable\">\n",
       "<tr>\n",
       "  <th>Omnibus:</th>       <td> 1.099</td> <th>  Durbin-Watson:     </th> <td>   1.963</td>\n",
       "</tr>\n",
       "<tr>\n",
       "  <th>Prob(Omnibus):</th> <td> 0.577</td> <th>  Jarque-Bera (JB):  </th> <td>   1.047</td>\n",
       "</tr>\n",
       "<tr>\n",
       "  <th>Skew:</th>          <td> 0.266</td> <th>  Prob(JB):          </th> <td>   0.593</td>\n",
       "</tr>\n",
       "<tr>\n",
       "  <th>Kurtosis:</th>      <td> 2.340</td> <th>  Cond. No.          </th> <td>    42.3</td>\n",
       "</tr>\n",
       "</table><br/><br/>Warnings:<br/>[1] Standard Errors assume that the covariance matrix of the errors is correctly specified."
      ],
      "text/plain": [
       "<class 'statsmodels.iolib.summary.Summary'>\n",
       "\"\"\"\n",
       "                            OLS Regression Results                            \n",
       "==============================================================================\n",
       "Dep. Variable:      monthly_checkouts   R-squared:                       0.943\n",
       "Model:                            OLS   Adj. R-squared:                  0.941\n",
       "Method:                 Least Squares   F-statistic:                     543.4\n",
       "Date:                Tue, 21 Jul 2020   Prob (F-statistic):           4.52e-22\n",
       "Time:                        10:58:40   Log-Likelihood:                -369.43\n",
       "No. Observations:                  35   AIC:                             742.9\n",
       "Df Residuals:                      33   BIC:                             746.0\n",
       "Df Model:                           1                                         \n",
       "Covariance Type:            nonrobust                                         \n",
       "==============================================================================\n",
       "                 coef    std err          t      P>|t|      [0.025      0.975]\n",
       "------------------------------------------------------------------------------\n",
       "const       1.686e+05   3303.418     51.042      0.000    1.62e+05    1.75e+05\n",
       "t           3730.8633    160.051     23.310      0.000    3405.237    4056.490\n",
       "==============================================================================\n",
       "Omnibus:                        1.099   Durbin-Watson:                   1.963\n",
       "Prob(Omnibus):                  0.577   Jarque-Bera (JB):                1.047\n",
       "Skew:                           0.266   Prob(JB):                        0.593\n",
       "Kurtosis:                       2.340   Cond. No.                         42.3\n",
       "==============================================================================\n",
       "\n",
       "Warnings:\n",
       "[1] Standard Errors assume that the covariance matrix of the errors is correctly specified.\n",
       "\"\"\""
      ]
     },
     "execution_count": 26,
     "metadata": {},
     "output_type": "execute_result"
    }
   ],
   "source": [
    "test_results.summary()"
   ]
  },
  {
   "cell_type": "code",
   "execution_count": 27,
   "metadata": {},
   "outputs": [
    {
     "data": {
      "text/html": [
       "<div>\n",
       "<style scoped>\n",
       "    .dataframe tbody tr th:only-of-type {\n",
       "        vertical-align: middle;\n",
       "    }\n",
       "\n",
       "    .dataframe tbody tr th {\n",
       "        vertical-align: top;\n",
       "    }\n",
       "\n",
       "    .dataframe thead th {\n",
       "        text-align: right;\n",
       "    }\n",
       "</style>\n",
       "<table border=\"1\" class=\"dataframe\">\n",
       "  <thead>\n",
       "    <tr style=\"text-align: right;\">\n",
       "      <th></th>\n",
       "      <th>const</th>\n",
       "      <th>t</th>\n",
       "    </tr>\n",
       "  </thead>\n",
       "  <tbody>\n",
       "    <tr>\n",
       "      <th>29</th>\n",
       "      <td>1.0</td>\n",
       "      <td>36</td>\n",
       "    </tr>\n",
       "    <tr>\n",
       "      <th>1</th>\n",
       "      <td>1.0</td>\n",
       "      <td>37</td>\n",
       "    </tr>\n",
       "    <tr>\n",
       "      <th>42</th>\n",
       "      <td>1.0</td>\n",
       "      <td>38</td>\n",
       "    </tr>\n",
       "  </tbody>\n",
       "</table>\n",
       "</div>"
      ],
      "text/plain": [
       "    const   t\n",
       "29    1.0  36\n",
       "1     1.0  37\n",
       "42    1.0  38"
      ]
     },
     "execution_count": 27,
     "metadata": {},
     "output_type": "execute_result"
    }
   ],
   "source": [
    "X_fake_post"
   ]
  },
  {
   "cell_type": "code",
   "execution_count": 28,
   "metadata": {},
   "outputs": [],
   "source": [
    "preds = test_results.predict(X_fake_post)"
   ]
  },
  {
   "cell_type": "code",
   "execution_count": 29,
   "metadata": {},
   "outputs": [
    {
     "data": {
      "text/plain": [
       "29    302923.796639\n",
       "1     306654.659944\n",
       "42    310385.523249\n",
       "dtype: float64"
      ]
     },
     "execution_count": 29,
     "metadata": {},
     "output_type": "execute_result"
    }
   ],
   "source": [
    "preds"
   ]
  },
  {
   "cell_type": "code",
   "execution_count": 30,
   "metadata": {},
   "outputs": [
    {
     "name": "stderr",
     "output_type": "stream",
     "text": [
      "/Users/carol/.pyenv/versions/bookenv/lib/python3.8/site-packages/pandas/core/indexing.py:845: SettingWithCopyWarning: \n",
      "A value is trying to be set on a copy of a slice from a DataFrame.\n",
      "Try using .loc[row_indexer,col_indexer] = value instead\n",
      "\n",
      "See the caveats in the documentation: https://pandas.pydata.org/pandas-docs/stable/user_guide/indexing.html#returning-a-view-versus-a-copy\n",
      "  self.obj[key] = _infer_fill_value(value)\n",
      "/Users/carol/.pyenv/versions/bookenv/lib/python3.8/site-packages/pandas/core/indexing.py:966: SettingWithCopyWarning: \n",
      "A value is trying to be set on a copy of a slice from a DataFrame.\n",
      "Try using .loc[row_indexer,col_indexer] = value instead\n",
      "\n",
      "See the caveats in the documentation: https://pandas.pydata.org/pandas-docs/stable/user_guide/indexing.html#returning-a-view-versus-a-copy\n",
      "  self.obj[item] = s\n"
     ]
    }
   ],
   "source": [
    "fake_post.loc[:, 'predicted'] = preds"
   ]
  },
  {
   "cell_type": "code",
   "execution_count": 31,
   "metadata": {},
   "outputs": [],
   "source": [
    "fake_post.loc[:, 'diff'] = np.abs(fake_post['predicted'] - fake_post['monthly_checkouts'])"
   ]
  },
  {
   "cell_type": "code",
   "execution_count": 32,
   "metadata": {},
   "outputs": [],
   "source": [
    "fake_post.loc[:, 'pct_err'] = fake_post['diff'] / fake_post['monthly_checkouts']"
   ]
  },
  {
   "cell_type": "code",
   "execution_count": 33,
   "metadata": {},
   "outputs": [
    {
     "data": {
      "text/html": [
       "<div>\n",
       "<style scoped>\n",
       "    .dataframe tbody tr th:only-of-type {\n",
       "        vertical-align: middle;\n",
       "    }\n",
       "\n",
       "    .dataframe tbody tr th {\n",
       "        vertical-align: top;\n",
       "    }\n",
       "\n",
       "    .dataframe thead th {\n",
       "        text-align: right;\n",
       "    }\n",
       "</style>\n",
       "<table border=\"1\" class=\"dataframe\">\n",
       "  <thead>\n",
       "    <tr style=\"text-align: right;\">\n",
       "      <th></th>\n",
       "      <th>usageclass</th>\n",
       "      <th>checkoutmonth</th>\n",
       "      <th>checkoutyear</th>\n",
       "      <th>monthly_checkouts</th>\n",
       "      <th>date</th>\n",
       "      <th>t</th>\n",
       "      <th>predicted</th>\n",
       "      <th>diff</th>\n",
       "      <th>pct_err</th>\n",
       "    </tr>\n",
       "  </thead>\n",
       "  <tbody>\n",
       "    <tr>\n",
       "      <th>29</th>\n",
       "      <td>Digital</td>\n",
       "      <td>12</td>\n",
       "      <td>2019</td>\n",
       "      <td>308176</td>\n",
       "      <td>2019-12-01</td>\n",
       "      <td>36</td>\n",
       "      <td>302923.796639</td>\n",
       "      <td>5252.203361</td>\n",
       "      <td>0.017043</td>\n",
       "    </tr>\n",
       "    <tr>\n",
       "      <th>1</th>\n",
       "      <td>Digital</td>\n",
       "      <td>1</td>\n",
       "      <td>2020</td>\n",
       "      <td>324650</td>\n",
       "      <td>2020-01-01</td>\n",
       "      <td>37</td>\n",
       "      <td>306654.659944</td>\n",
       "      <td>17995.340056</td>\n",
       "      <td>0.055430</td>\n",
       "    </tr>\n",
       "    <tr>\n",
       "      <th>42</th>\n",
       "      <td>Digital</td>\n",
       "      <td>2</td>\n",
       "      <td>2020</td>\n",
       "      <td>300871</td>\n",
       "      <td>2020-02-01</td>\n",
       "      <td>38</td>\n",
       "      <td>310385.523249</td>\n",
       "      <td>9514.523249</td>\n",
       "      <td>0.031623</td>\n",
       "    </tr>\n",
       "  </tbody>\n",
       "</table>\n",
       "</div>"
      ],
      "text/plain": [
       "   usageclass  checkoutmonth  checkoutyear  monthly_checkouts       date   t  \\\n",
       "29    Digital             12          2019             308176 2019-12-01  36   \n",
       "1     Digital              1          2020             324650 2020-01-01  37   \n",
       "42    Digital              2          2020             300871 2020-02-01  38   \n",
       "\n",
       "        predicted          diff   pct_err  \n",
       "29  302923.796639   5252.203361  0.017043  \n",
       "1   306654.659944  17995.340056  0.055430  \n",
       "42  310385.523249   9514.523249  0.031623  "
      ]
     },
     "execution_count": 33,
     "metadata": {},
     "output_type": "execute_result"
    }
   ],
   "source": [
    "fake_post"
   ]
  },
  {
   "cell_type": "code",
   "execution_count": 34,
   "metadata": {},
   "outputs": [],
   "source": [
    "X_pre = sm.add_constant(pre[['t']])\n",
    "X_post = sm.add_constant(post[['t']])\n",
    "y_pre = pre[['monthly_checkouts']]"
   ]
  },
  {
   "cell_type": "code",
   "execution_count": 35,
   "metadata": {},
   "outputs": [],
   "source": [
    "model = sm.OLS(y_pre, X_pre)"
   ]
  },
  {
   "cell_type": "code",
   "execution_count": 36,
   "metadata": {},
   "outputs": [],
   "source": [
    "results = model.fit()"
   ]
  },
  {
   "cell_type": "code",
   "execution_count": 37,
   "metadata": {},
   "outputs": [
    {
     "data": {
      "text/html": [
       "<table class=\"simpletable\">\n",
       "<caption>OLS Regression Results</caption>\n",
       "<tr>\n",
       "  <th>Dep. Variable:</th>    <td>monthly_checkouts</td> <th>  R-squared:         </th> <td>   0.950</td>\n",
       "</tr>\n",
       "<tr>\n",
       "  <th>Model:</th>                   <td>OLS</td>        <th>  Adj. R-squared:    </th> <td>   0.949</td>\n",
       "</tr>\n",
       "<tr>\n",
       "  <th>Method:</th>             <td>Least Squares</td>   <th>  F-statistic:       </th> <td>   682.6</td>\n",
       "</tr>\n",
       "<tr>\n",
       "  <th>Date:</th>             <td>Tue, 21 Jul 2020</td>  <th>  Prob (F-statistic):</th> <td>5.34e-25</td>\n",
       "</tr>\n",
       "<tr>\n",
       "  <th>Time:</th>                 <td>10:58:41</td>      <th>  Log-Likelihood:    </th> <td> -402.04</td>\n",
       "</tr>\n",
       "<tr>\n",
       "  <th>No. Observations:</th>      <td>    38</td>       <th>  AIC:               </th> <td>   808.1</td>\n",
       "</tr>\n",
       "<tr>\n",
       "  <th>Df Residuals:</th>          <td>    36</td>       <th>  BIC:               </th> <td>   811.4</td>\n",
       "</tr>\n",
       "<tr>\n",
       "  <th>Df Model:</th>              <td>     1</td>       <th>                     </th>     <td> </td>   \n",
       "</tr>\n",
       "<tr>\n",
       "  <th>Covariance Type:</th>      <td>nonrobust</td>     <th>                     </th>     <td> </td>   \n",
       "</tr>\n",
       "</table>\n",
       "<table class=\"simpletable\">\n",
       "<tr>\n",
       "    <td></td>       <th>coef</th>     <th>std err</th>      <th>t</th>      <th>P>|t|</th>  <th>[0.025</th>    <th>0.975]</th>  \n",
       "</tr>\n",
       "<tr>\n",
       "  <th>const</th> <td>  1.68e+05</td> <td> 3236.904</td> <td>   51.905</td> <td> 0.000</td> <td> 1.61e+05</td> <td> 1.75e+05</td>\n",
       "</tr>\n",
       "<tr>\n",
       "  <th>t</th>     <td> 3780.2256</td> <td>  144.686</td> <td>   26.127</td> <td> 0.000</td> <td> 3486.788</td> <td> 4073.663</td>\n",
       "</tr>\n",
       "</table>\n",
       "<table class=\"simpletable\">\n",
       "<tr>\n",
       "  <th>Omnibus:</th>       <td> 1.973</td> <th>  Durbin-Watson:     </th> <td>   2.057</td>\n",
       "</tr>\n",
       "<tr>\n",
       "  <th>Prob(Omnibus):</th> <td> 0.373</td> <th>  Jarque-Bera (JB):  </th> <td>   1.390</td>\n",
       "</tr>\n",
       "<tr>\n",
       "  <th>Skew:</th>          <td> 0.234</td> <th>  Prob(JB):          </th> <td>   0.499</td>\n",
       "</tr>\n",
       "<tr>\n",
       "  <th>Kurtosis:</th>      <td> 2.188</td> <th>  Cond. No.          </th> <td>    45.7</td>\n",
       "</tr>\n",
       "</table><br/><br/>Warnings:<br/>[1] Standard Errors assume that the covariance matrix of the errors is correctly specified."
      ],
      "text/plain": [
       "<class 'statsmodels.iolib.summary.Summary'>\n",
       "\"\"\"\n",
       "                            OLS Regression Results                            \n",
       "==============================================================================\n",
       "Dep. Variable:      monthly_checkouts   R-squared:                       0.950\n",
       "Model:                            OLS   Adj. R-squared:                  0.949\n",
       "Method:                 Least Squares   F-statistic:                     682.6\n",
       "Date:                Tue, 21 Jul 2020   Prob (F-statistic):           5.34e-25\n",
       "Time:                        10:58:41   Log-Likelihood:                -402.04\n",
       "No. Observations:                  38   AIC:                             808.1\n",
       "Df Residuals:                      36   BIC:                             811.4\n",
       "Df Model:                           1                                         \n",
       "Covariance Type:            nonrobust                                         \n",
       "==============================================================================\n",
       "                 coef    std err          t      P>|t|      [0.025      0.975]\n",
       "------------------------------------------------------------------------------\n",
       "const        1.68e+05   3236.904     51.905      0.000    1.61e+05    1.75e+05\n",
       "t           3780.2256    144.686     26.127      0.000    3486.788    4073.663\n",
       "==============================================================================\n",
       "Omnibus:                        1.973   Durbin-Watson:                   2.057\n",
       "Prob(Omnibus):                  0.373   Jarque-Bera (JB):                1.390\n",
       "Skew:                           0.234   Prob(JB):                        0.499\n",
       "Kurtosis:                       2.188   Cond. No.                         45.7\n",
       "==============================================================================\n",
       "\n",
       "Warnings:\n",
       "[1] Standard Errors assume that the covariance matrix of the errors is correctly specified.\n",
       "\"\"\""
      ]
     },
     "execution_count": 37,
     "metadata": {},
     "output_type": "execute_result"
    }
   ],
   "source": [
    "results.summary()"
   ]
  },
  {
   "cell_type": "code",
   "execution_count": 38,
   "metadata": {},
   "outputs": [],
   "source": [
    "preds = results.predict(X_post)"
   ]
  },
  {
   "cell_type": "code",
   "execution_count": 39,
   "metadata": {},
   "outputs": [
    {
     "name": "stderr",
     "output_type": "stream",
     "text": [
      "/Users/carol/.pyenv/versions/bookenv/lib/python3.8/site-packages/pandas/core/indexing.py:845: SettingWithCopyWarning: \n",
      "A value is trying to be set on a copy of a slice from a DataFrame.\n",
      "Try using .loc[row_indexer,col_indexer] = value instead\n",
      "\n",
      "See the caveats in the documentation: https://pandas.pydata.org/pandas-docs/stable/user_guide/indexing.html#returning-a-view-versus-a-copy\n",
      "  self.obj[key] = _infer_fill_value(value)\n",
      "/Users/carol/.pyenv/versions/bookenv/lib/python3.8/site-packages/pandas/core/indexing.py:966: SettingWithCopyWarning: \n",
      "A value is trying to be set on a copy of a slice from a DataFrame.\n",
      "Try using .loc[row_indexer,col_indexer] = value instead\n",
      "\n",
      "See the caveats in the documentation: https://pandas.pydata.org/pandas-docs/stable/user_guide/indexing.html#returning-a-view-versus-a-copy\n",
      "  self.obj[item] = s\n"
     ]
    }
   ],
   "source": [
    "post.loc[:, 'predicted'] = preds"
   ]
  },
  {
   "cell_type": "code",
   "execution_count": 40,
   "metadata": {},
   "outputs": [],
   "source": [
    "post.loc[:, 'diff'] = post['monthly_checkouts'] - post['predicted']\n",
    "post.loc[:, 'pct_increase'] = post['diff'] / post['predicted']"
   ]
  },
  {
   "cell_type": "code",
   "execution_count": 41,
   "metadata": {},
   "outputs": [
    {
     "data": {
      "text/html": [
       "<div>\n",
       "<style scoped>\n",
       "    .dataframe tbody tr th:only-of-type {\n",
       "        vertical-align: middle;\n",
       "    }\n",
       "\n",
       "    .dataframe tbody tr th {\n",
       "        vertical-align: top;\n",
       "    }\n",
       "\n",
       "    .dataframe thead th {\n",
       "        text-align: right;\n",
       "    }\n",
       "</style>\n",
       "<table border=\"1\" class=\"dataframe\">\n",
       "  <thead>\n",
       "    <tr style=\"text-align: right;\">\n",
       "      <th></th>\n",
       "      <th>usageclass</th>\n",
       "      <th>checkoutmonth</th>\n",
       "      <th>checkoutyear</th>\n",
       "      <th>monthly_checkouts</th>\n",
       "      <th>date</th>\n",
       "      <th>t</th>\n",
       "      <th>predicted</th>\n",
       "      <th>diff</th>\n",
       "      <th>pct_increase</th>\n",
       "    </tr>\n",
       "  </thead>\n",
       "  <tbody>\n",
       "    <tr>\n",
       "      <th>0</th>\n",
       "      <td>Digital</td>\n",
       "      <td>3</td>\n",
       "      <td>2020</td>\n",
       "      <td>321092</td>\n",
       "      <td>2020-03-01</td>\n",
       "      <td>39</td>\n",
       "      <td>315440.347084</td>\n",
       "      <td>5651.652916</td>\n",
       "      <td>0.017917</td>\n",
       "    </tr>\n",
       "    <tr>\n",
       "      <th>5</th>\n",
       "      <td>Digital</td>\n",
       "      <td>4</td>\n",
       "      <td>2020</td>\n",
       "      <td>354090</td>\n",
       "      <td>2020-04-01</td>\n",
       "      <td>40</td>\n",
       "      <td>319220.572710</td>\n",
       "      <td>34869.427290</td>\n",
       "      <td>0.109233</td>\n",
       "    </tr>\n",
       "    <tr>\n",
       "      <th>16</th>\n",
       "      <td>Digital</td>\n",
       "      <td>5</td>\n",
       "      <td>2020</td>\n",
       "      <td>383934</td>\n",
       "      <td>2020-05-01</td>\n",
       "      <td>41</td>\n",
       "      <td>323000.798337</td>\n",
       "      <td>60933.201663</td>\n",
       "      <td>0.188647</td>\n",
       "    </tr>\n",
       "    <tr>\n",
       "      <th>49</th>\n",
       "      <td>Digital</td>\n",
       "      <td>6</td>\n",
       "      <td>2020</td>\n",
       "      <td>380269</td>\n",
       "      <td>2020-06-01</td>\n",
       "      <td>42</td>\n",
       "      <td>326781.023963</td>\n",
       "      <td>53487.976037</td>\n",
       "      <td>0.163681</td>\n",
       "    </tr>\n",
       "  </tbody>\n",
       "</table>\n",
       "</div>"
      ],
      "text/plain": [
       "   usageclass  checkoutmonth  checkoutyear  monthly_checkouts       date   t  \\\n",
       "0     Digital              3          2020             321092 2020-03-01  39   \n",
       "5     Digital              4          2020             354090 2020-04-01  40   \n",
       "16    Digital              5          2020             383934 2020-05-01  41   \n",
       "49    Digital              6          2020             380269 2020-06-01  42   \n",
       "\n",
       "        predicted          diff  pct_increase  \n",
       "0   315440.347084   5651.652916      0.017917  \n",
       "5   319220.572710  34869.427290      0.109233  \n",
       "16  323000.798337  60933.201663      0.188647  \n",
       "49  326781.023963  53487.976037      0.163681  "
      ]
     },
     "execution_count": 41,
     "metadata": {},
     "output_type": "execute_result"
    }
   ],
   "source": [
    "post"
   ]
  },
  {
   "cell_type": "code",
   "execution_count": 42,
   "metadata": {},
   "outputs": [],
   "source": [
    "digital['predicted'] = results.predict(sm.add_constant(digital[['t']]))"
   ]
  },
  {
   "cell_type": "code",
   "execution_count": 43,
   "metadata": {},
   "outputs": [],
   "source": [
    "digital['post_lockdown'] = digital['date'] >= dt.datetime(year=2020, month=3, day=1)"
   ]
  },
  {
   "cell_type": "code",
   "execution_count": 44,
   "metadata": {},
   "outputs": [
    {
     "data": {
      "text/html": [
       "\n",
       "<div id=\"altair-viz-b42cdf9fccd14e86ae5771e3b2866f7e\"></div>\n",
       "<script type=\"text/javascript\">\n",
       "  (function(spec, embedOpt){\n",
       "    let outputDiv = document.currentScript.previousElementSibling;\n",
       "    if (outputDiv.id !== \"altair-viz-b42cdf9fccd14e86ae5771e3b2866f7e\") {\n",
       "      outputDiv = document.getElementById(\"altair-viz-b42cdf9fccd14e86ae5771e3b2866f7e\");\n",
       "    }\n",
       "    const paths = {\n",
       "      \"vega\": \"https://cdn.jsdelivr.net/npm//vega@5?noext\",\n",
       "      \"vega-lib\": \"https://cdn.jsdelivr.net/npm//vega-lib?noext\",\n",
       "      \"vega-lite\": \"https://cdn.jsdelivr.net/npm//vega-lite@4.8.1?noext\",\n",
       "      \"vega-embed\": \"https://cdn.jsdelivr.net/npm//vega-embed@6?noext\",\n",
       "    };\n",
       "\n",
       "    function loadScript(lib) {\n",
       "      return new Promise(function(resolve, reject) {\n",
       "        var s = document.createElement('script');\n",
       "        s.src = paths[lib];\n",
       "        s.async = true;\n",
       "        s.onload = () => resolve(paths[lib]);\n",
       "        s.onerror = () => reject(`Error loading script: ${paths[lib]}`);\n",
       "        document.getElementsByTagName(\"head\")[0].appendChild(s);\n",
       "      });\n",
       "    }\n",
       "\n",
       "    function showError(err) {\n",
       "      outputDiv.innerHTML = `<div class=\"error\" style=\"color:red;\">${err}</div>`;\n",
       "      throw err;\n",
       "    }\n",
       "\n",
       "    function displayChart(vegaEmbed) {\n",
       "      vegaEmbed(outputDiv, spec, embedOpt)\n",
       "        .catch(err => showError(`Javascript Error: ${err.message}<br>This usually means there's a typo in your chart specification. See the javascript console for the full traceback.`));\n",
       "    }\n",
       "\n",
       "    if(typeof define === \"function\" && define.amd) {\n",
       "      requirejs.config({paths});\n",
       "      require([\"vega-embed\"], displayChart, err => showError(`Error loading script: ${err.message}`));\n",
       "    } else if (typeof vegaEmbed === \"function\") {\n",
       "      displayChart(vegaEmbed);\n",
       "    } else {\n",
       "      loadScript(\"vega\")\n",
       "        .then(() => loadScript(\"vega-lite\"))\n",
       "        .then(() => loadScript(\"vega-embed\"))\n",
       "        .catch(showError)\n",
       "        .then(() => displayChart(vegaEmbed));\n",
       "    }\n",
       "  })({\"config\": {\"view\": {\"continuousWidth\": 400, \"continuousHeight\": 300}}, \"layer\": [{\"mark\": \"line\", \"encoding\": {\"x\": {\"type\": \"temporal\", \"field\": \"date\"}, \"y\": {\"type\": \"quantitative\", \"field\": \"predicted\"}}}, {\"mark\": \"point\", \"encoding\": {\"color\": {\"type\": \"nominal\", \"field\": \"post_lockdown\"}, \"x\": {\"type\": \"temporal\", \"field\": \"date\"}, \"y\": {\"type\": \"quantitative\", \"field\": \"monthly_checkouts\"}}}], \"data\": {\"name\": \"data-2e7d6237c2834dc0f82edbba3f78b373\"}, \"$schema\": \"https://vega.github.io/schema/vega-lite/v4.8.1.json\", \"datasets\": {\"data-2e7d6237c2834dc0f82edbba3f78b373\": [{\"usageclass\": \"Digital\", \"checkoutmonth\": 1, \"checkoutyear\": 2019, \"monthly_checkouts\": 275985, \"date\": \"2019-01-01T00:00:00\", \"t\": 25, \"predicted\": 262517.1883138199, \"post_lockdown\": false}, {\"usageclass\": \"Digital\", \"checkoutmonth\": 2, \"checkoutyear\": 2019, \"monthly_checkouts\": 249946, \"date\": \"2019-02-01T00:00:00\", \"t\": 26, \"predicted\": 266297.41394025605, \"post_lockdown\": false}, {\"usageclass\": \"Digital\", \"checkoutmonth\": 3, \"checkoutyear\": 2019, \"monthly_checkouts\": 270097, \"date\": \"2019-03-01T00:00:00\", \"t\": 27, \"predicted\": 270077.6395666922, \"post_lockdown\": false}, {\"usageclass\": \"Digital\", \"checkoutmonth\": 4, \"checkoutyear\": 2019, \"monthly_checkouts\": 269302, \"date\": \"2019-04-01T00:00:00\", \"t\": 28, \"predicted\": 273857.86519312835, \"post_lockdown\": false}, {\"usageclass\": \"Digital\", \"checkoutmonth\": 5, \"checkoutyear\": 2019, \"monthly_checkouts\": 278086, \"date\": \"2019-05-01T00:00:00\", \"t\": 29, \"predicted\": 277638.0908195645, \"post_lockdown\": false}, {\"usageclass\": \"Digital\", \"checkoutmonth\": 6, \"checkoutyear\": 2019, \"monthly_checkouts\": 279311, \"date\": \"2019-06-01T00:00:00\", \"t\": 30, \"predicted\": 281418.3164460006, \"post_lockdown\": false}, {\"usageclass\": \"Digital\", \"checkoutmonth\": 7, \"checkoutyear\": 2019, \"monthly_checkouts\": 300752, \"date\": \"2019-07-01T00:00:00\", \"t\": 31, \"predicted\": 285198.5420724368, \"post_lockdown\": false}, {\"usageclass\": \"Digital\", \"checkoutmonth\": 8, \"checkoutyear\": 2019, \"monthly_checkouts\": 304575, \"date\": \"2019-08-01T00:00:00\", \"t\": 32, \"predicted\": 288978.76769887295, \"post_lockdown\": false}, {\"usageclass\": \"Digital\", \"checkoutmonth\": 9, \"checkoutyear\": 2019, \"monthly_checkouts\": 287419, \"date\": \"2019-09-01T00:00:00\", \"t\": 33, \"predicted\": 292758.9933253091, \"post_lockdown\": false}, {\"usageclass\": \"Digital\", \"checkoutmonth\": 10, \"checkoutyear\": 2019, \"monthly_checkouts\": 294671, \"date\": \"2019-10-01T00:00:00\", \"t\": 34, \"predicted\": 296539.2189517452, \"post_lockdown\": false}, {\"usageclass\": \"Digital\", \"checkoutmonth\": 11, \"checkoutyear\": 2019, \"monthly_checkouts\": 289002, \"date\": \"2019-11-01T00:00:00\", \"t\": 35, \"predicted\": 300319.44457818137, \"post_lockdown\": false}, {\"usageclass\": \"Digital\", \"checkoutmonth\": 12, \"checkoutyear\": 2019, \"monthly_checkouts\": 308176, \"date\": \"2019-12-01T00:00:00\", \"t\": 36, \"predicted\": 304099.67020461755, \"post_lockdown\": false}, {\"usageclass\": \"Digital\", \"checkoutmonth\": 1, \"checkoutyear\": 2020, \"monthly_checkouts\": 324650, \"date\": \"2020-01-01T00:00:00\", \"t\": 37, \"predicted\": 307879.89583105367, \"post_lockdown\": false}, {\"usageclass\": \"Digital\", \"checkoutmonth\": 2, \"checkoutyear\": 2020, \"monthly_checkouts\": 300871, \"date\": \"2020-02-01T00:00:00\", \"t\": 38, \"predicted\": 311660.1214574898, \"post_lockdown\": false}, {\"usageclass\": \"Digital\", \"checkoutmonth\": 3, \"checkoutyear\": 2020, \"monthly_checkouts\": 321092, \"date\": \"2020-03-01T00:00:00\", \"t\": 39, \"predicted\": 315440.34708392597, \"post_lockdown\": true}, {\"usageclass\": \"Digital\", \"checkoutmonth\": 4, \"checkoutyear\": 2020, \"monthly_checkouts\": 354090, \"date\": \"2020-04-01T00:00:00\", \"t\": 40, \"predicted\": 319220.5727103621, \"post_lockdown\": true}, {\"usageclass\": \"Digital\", \"checkoutmonth\": 5, \"checkoutyear\": 2020, \"monthly_checkouts\": 383934, \"date\": \"2020-05-01T00:00:00\", \"t\": 41, \"predicted\": 323000.7983367982, \"post_lockdown\": true}, {\"usageclass\": \"Digital\", \"checkoutmonth\": 6, \"checkoutyear\": 2020, \"monthly_checkouts\": 380269, \"date\": \"2020-06-01T00:00:00\", \"t\": 42, \"predicted\": 326781.0239632344, \"post_lockdown\": true}]}}, {\"mode\": \"vega-lite\"});\n",
       "</script>"
      ],
      "text/plain": [
       "alt.LayerChart(...)"
      ]
     },
     "execution_count": 44,
     "metadata": {},
     "output_type": "execute_result"
    }
   ],
   "source": [
    "d = digital[digital['date'] >= dt.datetime(year=2019, month=1, day=1)]\n",
    "\n",
    "regression_line = alt.Chart(d).mark_line().encode(\n",
    "    x='date',\n",
    "    y='predicted'\n",
    ")\n",
    "\n",
    "data_points = alt.Chart(d).mark_point().encode(\n",
    "    x='date',\n",
    "    y='monthly_checkouts',\n",
    "    color='post_lockdown'\n",
    ")\n",
    "\n",
    "regression_line + data_points"
   ]
  }
 ],
 "metadata": {
  "kernelspec": {
   "display_name": "bookenv",
   "language": "python",
   "name": "bookenv"
  },
  "language_info": {
   "codemirror_mode": {
    "name": "ipython",
    "version": 3
   },
   "file_extension": ".py",
   "mimetype": "text/x-python",
   "name": "python",
   "nbconvert_exporter": "python",
   "pygments_lexer": "ipython3",
   "version": "3.8.3"
  }
 },
 "nbformat": 4,
 "nbformat_minor": 4
}
