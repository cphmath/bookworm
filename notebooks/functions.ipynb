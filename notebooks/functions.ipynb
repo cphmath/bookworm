{
 "cells": [
  {
   "cell_type": "code",
   "execution_count": 1,
   "metadata": {},
   "outputs": [],
   "source": [
    "import os\n",
    "os.chdir('..')\n",
    "\n",
    "import bookworm.data\n",
    "import  altair as alt"
   ]
  },
  {
   "cell_type": "markdown",
   "metadata": {},
   "source": [
    "# Pull Data"
   ]
  },
  {
   "cell_type": "code",
   "execution_count": 2,
   "metadata": {},
   "outputs": [
    {
     "name": "stdout",
     "output_type": "stream",
     "text": [
      "Client created, querying data...\n",
      "Raw data queried, processing data...\n",
      "Done\n"
     ]
    }
   ],
   "source": [
    "df = bookworm.data.get_checkouts_by_usage_class()"
   ]
  },
  {
   "cell_type": "code",
   "execution_count": 3,
   "metadata": {},
   "outputs": [
    {
     "data": {
      "text/html": [
       "<div>\n",
       "<style scoped>\n",
       "    .dataframe tbody tr th:only-of-type {\n",
       "        vertical-align: middle;\n",
       "    }\n",
       "\n",
       "    .dataframe tbody tr th {\n",
       "        vertical-align: top;\n",
       "    }\n",
       "\n",
       "    .dataframe thead th {\n",
       "        text-align: right;\n",
       "    }\n",
       "</style>\n",
       "<table border=\"1\" class=\"dataframe\">\n",
       "  <thead>\n",
       "    <tr style=\"text-align: right;\">\n",
       "      <th></th>\n",
       "      <th>month_date</th>\n",
       "      <th>usage_class</th>\n",
       "      <th>monthly_checkouts</th>\n",
       "    </tr>\n",
       "  </thead>\n",
       "  <tbody>\n",
       "    <tr>\n",
       "      <th>58</th>\n",
       "      <td>2017-01-01</td>\n",
       "      <td>Digital</td>\n",
       "      <td>185376</td>\n",
       "    </tr>\n",
       "    <tr>\n",
       "      <th>36</th>\n",
       "      <td>2017-01-01</td>\n",
       "      <td>Physical</td>\n",
       "      <td>331830</td>\n",
       "    </tr>\n",
       "    <tr>\n",
       "      <th>31</th>\n",
       "      <td>2017-02-01</td>\n",
       "      <td>Digital</td>\n",
       "      <td>168370</td>\n",
       "    </tr>\n",
       "    <tr>\n",
       "      <th>66</th>\n",
       "      <td>2017-02-01</td>\n",
       "      <td>Physical</td>\n",
       "      <td>299992</td>\n",
       "    </tr>\n",
       "    <tr>\n",
       "      <th>56</th>\n",
       "      <td>2017-03-01</td>\n",
       "      <td>Digital</td>\n",
       "      <td>186795</td>\n",
       "    </tr>\n",
       "  </tbody>\n",
       "</table>\n",
       "</div>"
      ],
      "text/plain": [
       "   month_date usage_class  monthly_checkouts\n",
       "58 2017-01-01     Digital             185376\n",
       "36 2017-01-01    Physical             331830\n",
       "31 2017-02-01     Digital             168370\n",
       "66 2017-02-01    Physical             299992\n",
       "56 2017-03-01     Digital             186795"
      ]
     },
     "execution_count": 3,
     "metadata": {},
     "output_type": "execute_result"
    }
   ],
   "source": [
    "df.head()"
   ]
  },
  {
   "cell_type": "markdown",
   "metadata": {},
   "source": [
    "# Digital vs Physical Trends\n",
    "\n",
    "Between January 2017 and March 2020, Digital checkouts grew linearly each month while Physical checkouts stayed approximately constant with some month-to-month variation. After March 2020, Physical checkouts dropped to zero due to branch closures, and Digital checkouts seemed to increase beyond the expected trend. How much did Digital checkouts increase in April, May and June 2020 over what was expected due to Covid-19?"
   ]
  },
  {
   "cell_type": "code",
   "execution_count": 10,
   "metadata": {},
   "outputs": [],
   "source": [
    "df.loc[:, 'usage_class'] = df['usage_class'].astype('str')"
   ]
  },
  {
   "cell_type": "code",
   "execution_count": 13,
   "metadata": {},
   "outputs": [],
   "source": [
    "df = df.astype(dtype={'usage_class':'str'})"
   ]
  },
  {
   "cell_type": "code",
   "execution_count": 15,
   "metadata": {},
   "outputs": [
    {
     "data": {
      "text/html": [
       "\n",
       "<div id=\"altair-viz-c9ffa47ddb324677827210c0f57026b7\"></div>\n",
       "<script type=\"text/javascript\">\n",
       "  (function(spec, embedOpt){\n",
       "    let outputDiv = document.currentScript.previousElementSibling;\n",
       "    if (outputDiv.id !== \"altair-viz-c9ffa47ddb324677827210c0f57026b7\") {\n",
       "      outputDiv = document.getElementById(\"altair-viz-c9ffa47ddb324677827210c0f57026b7\");\n",
       "    }\n",
       "    const paths = {\n",
       "      \"vega\": \"https://cdn.jsdelivr.net/npm//vega@5?noext\",\n",
       "      \"vega-lib\": \"https://cdn.jsdelivr.net/npm//vega-lib?noext\",\n",
       "      \"vega-lite\": \"https://cdn.jsdelivr.net/npm//vega-lite@4.8.1?noext\",\n",
       "      \"vega-embed\": \"https://cdn.jsdelivr.net/npm//vega-embed@6?noext\",\n",
       "    };\n",
       "\n",
       "    function loadScript(lib) {\n",
       "      return new Promise(function(resolve, reject) {\n",
       "        var s = document.createElement('script');\n",
       "        s.src = paths[lib];\n",
       "        s.async = true;\n",
       "        s.onload = () => resolve(paths[lib]);\n",
       "        s.onerror = () => reject(`Error loading script: ${paths[lib]}`);\n",
       "        document.getElementsByTagName(\"head\")[0].appendChild(s);\n",
       "      });\n",
       "    }\n",
       "\n",
       "    function showError(err) {\n",
       "      outputDiv.innerHTML = `<div class=\"error\" style=\"color:red;\">${err}</div>`;\n",
       "      throw err;\n",
       "    }\n",
       "\n",
       "    function displayChart(vegaEmbed) {\n",
       "      vegaEmbed(outputDiv, spec, embedOpt)\n",
       "        .catch(err => showError(`Javascript Error: ${err.message}<br>This usually means there's a typo in your chart specification. See the javascript console for the full traceback.`));\n",
       "    }\n",
       "\n",
       "    if(typeof define === \"function\" && define.amd) {\n",
       "      requirejs.config({paths});\n",
       "      require([\"vega-embed\"], displayChart, err => showError(`Error loading script: ${err.message}`));\n",
       "    } else if (typeof vegaEmbed === \"function\") {\n",
       "      displayChart(vegaEmbed);\n",
       "    } else {\n",
       "      loadScript(\"vega\")\n",
       "        .then(() => loadScript(\"vega-lite\"))\n",
       "        .then(() => loadScript(\"vega-embed\"))\n",
       "        .catch(showError)\n",
       "        .then(() => displayChart(vegaEmbed));\n",
       "    }\n",
       "  })({\"config\": {\"view\": {\"continuousWidth\": 400, \"continuousHeight\": 300}}, \"data\": {\"name\": \"data-467ffd9bc000d8f2bb012d6fdf77bfe7\"}, \"mark\": \"line\", \"encoding\": {\"color\": {\"type\": \"nominal\", \"field\": \"usage_class\"}, \"x\": {\"type\": \"temporal\", \"field\": \"month_date\"}, \"y\": {\"type\": \"quantitative\", \"field\": \"monthly_checkouts\"}}, \"$schema\": \"https://vega.github.io/schema/vega-lite/v4.8.1.json\", \"datasets\": {\"data-467ffd9bc000d8f2bb012d6fdf77bfe7\": [{\"month_date\": \"2017-01-01T00:00:00\", \"usage_class\": \"Digital\", \"monthly_checkouts\": 185376}, {\"month_date\": \"2017-01-01T00:00:00\", \"usage_class\": \"Physical\", \"monthly_checkouts\": 331830}, {\"month_date\": \"2017-02-01T00:00:00\", \"usage_class\": \"Digital\", \"monthly_checkouts\": 168370}, {\"month_date\": \"2017-02-01T00:00:00\", \"usage_class\": \"Physical\", \"monthly_checkouts\": 299992}, {\"month_date\": \"2017-03-01T00:00:00\", \"usage_class\": \"Digital\", \"monthly_checkouts\": 186795}, {\"month_date\": \"2017-03-01T00:00:00\", \"usage_class\": \"Physical\", \"monthly_checkouts\": 339645}, {\"month_date\": \"2017-04-01T00:00:00\", \"usage_class\": \"Digital\", \"monthly_checkouts\": 184500}, {\"month_date\": \"2017-04-01T00:00:00\", \"usage_class\": \"Physical\", \"monthly_checkouts\": 323798}, {\"month_date\": \"2017-05-01T00:00:00\", \"usage_class\": \"Digital\", \"monthly_checkouts\": 187126}, {\"month_date\": \"2017-05-01T00:00:00\", \"usage_class\": \"Physical\", \"monthly_checkouts\": 314535}, {\"month_date\": \"2017-06-01T00:00:00\", \"usage_class\": \"Digital\", \"monthly_checkouts\": 190590}, {\"month_date\": \"2017-06-01T00:00:00\", \"usage_class\": \"Physical\", \"monthly_checkouts\": 331804}, {\"month_date\": \"2017-07-01T00:00:00\", \"usage_class\": \"Digital\", \"monthly_checkouts\": 198990}, {\"month_date\": \"2017-07-01T00:00:00\", \"usage_class\": \"Physical\", \"monthly_checkouts\": 363403}, {\"month_date\": \"2017-08-01T00:00:00\", \"usage_class\": \"Digital\", \"monthly_checkouts\": 209142}, {\"month_date\": \"2017-08-01T00:00:00\", \"usage_class\": \"Physical\", \"monthly_checkouts\": 353581}, {\"month_date\": \"2017-09-01T00:00:00\", \"usage_class\": \"Digital\", \"monthly_checkouts\": 191778}, {\"month_date\": \"2017-09-01T00:00:00\", \"usage_class\": \"Physical\", \"monthly_checkouts\": 331058}, {\"month_date\": \"2017-10-01T00:00:00\", \"usage_class\": \"Digital\", \"monthly_checkouts\": 198296}, {\"month_date\": \"2017-10-01T00:00:00\", \"usage_class\": \"Physical\", \"monthly_checkouts\": 342200}, {\"month_date\": \"2017-11-01T00:00:00\", \"usage_class\": \"Digital\", \"monthly_checkouts\": 197227}, {\"month_date\": \"2017-11-01T00:00:00\", \"usage_class\": \"Physical\", \"monthly_checkouts\": 335034}, {\"month_date\": \"2017-12-01T00:00:00\", \"usage_class\": \"Digital\", \"monthly_checkouts\": 210896}, {\"month_date\": \"2017-12-01T00:00:00\", \"usage_class\": \"Physical\", \"monthly_checkouts\": 304713}, {\"month_date\": \"2018-01-01T00:00:00\", \"usage_class\": \"Digital\", \"monthly_checkouts\": 225361}, {\"month_date\": \"2018-01-01T00:00:00\", \"usage_class\": \"Physical\", \"monthly_checkouts\": 355101}, {\"month_date\": \"2018-02-01T00:00:00\", \"usage_class\": \"Digital\", \"monthly_checkouts\": 203892}, {\"month_date\": \"2018-02-01T00:00:00\", \"usage_class\": \"Physical\", \"monthly_checkouts\": 309813}, {\"month_date\": \"2018-03-01T00:00:00\", \"usage_class\": \"Digital\", \"monthly_checkouts\": 227451}, {\"month_date\": \"2018-03-01T00:00:00\", \"usage_class\": \"Physical\", \"monthly_checkouts\": 344487}, {\"month_date\": \"2018-04-01T00:00:00\", \"usage_class\": \"Digital\", \"monthly_checkouts\": 223897}, {\"month_date\": \"2018-04-01T00:00:00\", \"usage_class\": \"Physical\", \"monthly_checkouts\": 330988}, {\"month_date\": \"2018-05-01T00:00:00\", \"usage_class\": \"Digital\", \"monthly_checkouts\": 227328}, {\"month_date\": \"2018-05-01T00:00:00\", \"usage_class\": \"Physical\", \"monthly_checkouts\": 318049}, {\"month_date\": \"2018-06-01T00:00:00\", \"usage_class\": \"Digital\", \"monthly_checkouts\": 233988}, {\"month_date\": \"2018-06-01T00:00:00\", \"usage_class\": \"Physical\", \"monthly_checkouts\": 341825}, {\"month_date\": \"2018-07-01T00:00:00\", \"usage_class\": \"Digital\", \"monthly_checkouts\": 253747}, {\"month_date\": \"2018-07-01T00:00:00\", \"usage_class\": \"Physical\", \"monthly_checkouts\": 351207}, {\"month_date\": \"2018-08-01T00:00:00\", \"usage_class\": \"Digital\", \"monthly_checkouts\": 260651}, {\"month_date\": \"2018-08-01T00:00:00\", \"usage_class\": \"Physical\", \"monthly_checkouts\": 352977}, {\"month_date\": \"2018-09-01T00:00:00\", \"usage_class\": \"Digital\", \"monthly_checkouts\": 243301}, {\"month_date\": \"2018-09-01T00:00:00\", \"usage_class\": \"Physical\", \"monthly_checkouts\": 319587}, {\"month_date\": \"2018-10-01T00:00:00\", \"usage_class\": \"Digital\", \"monthly_checkouts\": 250071}, {\"month_date\": \"2018-10-01T00:00:00\", \"usage_class\": \"Physical\", \"monthly_checkouts\": 338497}, {\"month_date\": \"2018-11-01T00:00:00\", \"usage_class\": \"Digital\", \"monthly_checkouts\": 240341}, {\"month_date\": \"2018-11-01T00:00:00\", \"usage_class\": \"Physical\", \"monthly_checkouts\": 325249}, {\"month_date\": \"2018-12-01T00:00:00\", \"usage_class\": \"Digital\", \"monthly_checkouts\": 253629}, {\"month_date\": \"2018-12-01T00:00:00\", \"usage_class\": \"Physical\", \"monthly_checkouts\": 299789}, {\"month_date\": \"2019-01-01T00:00:00\", \"usage_class\": \"Digital\", \"monthly_checkouts\": 275985}, {\"month_date\": \"2019-01-01T00:00:00\", \"usage_class\": \"Physical\", \"monthly_checkouts\": 352288}, {\"month_date\": \"2019-02-01T00:00:00\", \"usage_class\": \"Digital\", \"monthly_checkouts\": 249946}, {\"month_date\": \"2019-02-01T00:00:00\", \"usage_class\": \"Physical\", \"monthly_checkouts\": 299465}, {\"month_date\": \"2019-03-01T00:00:00\", \"usage_class\": \"Digital\", \"monthly_checkouts\": 270097}, {\"month_date\": \"2019-03-01T00:00:00\", \"usage_class\": \"Physical\", \"monthly_checkouts\": 326457}, {\"month_date\": \"2019-04-01T00:00:00\", \"usage_class\": \"Digital\", \"monthly_checkouts\": 269302}, {\"month_date\": \"2019-04-01T00:00:00\", \"usage_class\": \"Physical\", \"monthly_checkouts\": 326988}, {\"month_date\": \"2019-05-01T00:00:00\", \"usage_class\": \"Digital\", \"monthly_checkouts\": 278086}, {\"month_date\": \"2019-05-01T00:00:00\", \"usage_class\": \"Physical\", \"monthly_checkouts\": 314565}, {\"month_date\": \"2019-06-01T00:00:00\", \"usage_class\": \"Digital\", \"monthly_checkouts\": 279311}, {\"month_date\": \"2019-06-01T00:00:00\", \"usage_class\": \"Physical\", \"monthly_checkouts\": 331914}, {\"month_date\": \"2019-07-01T00:00:00\", \"usage_class\": \"Digital\", \"monthly_checkouts\": 300752}, {\"month_date\": \"2019-07-01T00:00:00\", \"usage_class\": \"Physical\", \"monthly_checkouts\": 356688}, {\"month_date\": \"2019-08-01T00:00:00\", \"usage_class\": \"Digital\", \"monthly_checkouts\": 304575}, {\"month_date\": \"2019-08-01T00:00:00\", \"usage_class\": \"Physical\", \"monthly_checkouts\": 340723}, {\"month_date\": \"2019-09-01T00:00:00\", \"usage_class\": \"Digital\", \"monthly_checkouts\": 287419}, {\"month_date\": \"2019-09-01T00:00:00\", \"usage_class\": \"Physical\", \"monthly_checkouts\": 328773}, {\"month_date\": \"2019-10-01T00:00:00\", \"usage_class\": \"Digital\", \"monthly_checkouts\": 294671}, {\"month_date\": \"2019-10-01T00:00:00\", \"usage_class\": \"Physical\", \"monthly_checkouts\": 334295}, {\"month_date\": \"2019-11-01T00:00:00\", \"usage_class\": \"Digital\", \"monthly_checkouts\": 289002}, {\"month_date\": \"2019-11-01T00:00:00\", \"usage_class\": \"Physical\", \"monthly_checkouts\": 323796}, {\"month_date\": \"2019-12-01T00:00:00\", \"usage_class\": \"Digital\", \"monthly_checkouts\": 308176}, {\"month_date\": \"2019-12-01T00:00:00\", \"usage_class\": \"Physical\", \"monthly_checkouts\": 295736}, {\"month_date\": \"2020-01-01T00:00:00\", \"usage_class\": \"Digital\", \"monthly_checkouts\": 324650}, {\"month_date\": \"2020-01-01T00:00:00\", \"usage_class\": \"Physical\", \"monthly_checkouts\": 343328}, {\"month_date\": \"2020-02-01T00:00:00\", \"usage_class\": \"Digital\", \"monthly_checkouts\": 300871}, {\"month_date\": \"2020-02-01T00:00:00\", \"usage_class\": \"Physical\", \"monthly_checkouts\": 317946}, {\"month_date\": \"2020-03-01T00:00:00\", \"usage_class\": \"Digital\", \"monthly_checkouts\": 321092}, {\"month_date\": \"2020-03-01T00:00:00\", \"usage_class\": \"Physical\", \"monthly_checkouts\": 215128}, {\"month_date\": \"2020-04-01T00:00:00\", \"usage_class\": \"Digital\", \"monthly_checkouts\": 354090}, {\"month_date\": \"2020-04-01T00:00:00\", \"usage_class\": \"Physical\", \"monthly_checkouts\": 70}, {\"month_date\": \"2020-05-01T00:00:00\", \"usage_class\": \"Digital\", \"monthly_checkouts\": 383934}, {\"month_date\": \"2020-05-01T00:00:00\", \"usage_class\": \"Physical\", \"monthly_checkouts\": 87}, {\"month_date\": \"2020-06-01T00:00:00\", \"usage_class\": \"Digital\", \"monthly_checkouts\": 380269}, {\"month_date\": \"2020-06-01T00:00:00\", \"usage_class\": \"Physical\", \"monthly_checkouts\": 43}]}}, {\"mode\": \"vega-lite\"});\n",
       "</script>"
      ],
      "text/plain": [
       "alt.Chart(...)"
      ]
     },
     "execution_count": 15,
     "metadata": {},
     "output_type": "execute_result"
    }
   ],
   "source": [
    "alt.Chart(df).mark_line().encode(\n",
    "    x='month_date',\n",
    "    y='monthly_checkouts',\n",
    "    color='usage_class'\n",
    ")"
   ]
  },
  {
   "cell_type": "code",
   "execution_count": 18,
   "metadata": {},
   "outputs": [
    {
     "data": {
      "text/plain": [
       "True"
      ]
     },
     "execution_count": 18,
     "metadata": {},
     "output_type": "execute_result"
    }
   ],
   "source": [
    "all(df.columns == ['month_date', 'usage_class', 'monthly_checkouts'])"
   ]
  },
  {
   "cell_type": "code",
   "execution_count": 23,
   "metadata": {},
   "outputs": [],
   "source": [
    "import datetime as dt"
   ]
  },
  {
   "cell_type": "code",
   "execution_count": 31,
   "metadata": {},
   "outputs": [
    {
     "data": {
      "text/plain": [
       "array([False, False])"
      ]
     },
     "execution_count": 31,
     "metadata": {},
     "output_type": "execute_result"
    }
   ],
   "source": [
    "df['usage_class'].unique() == ['Physical', 'Digital']"
   ]
  },
  {
   "cell_type": "code",
   "execution_count": null,
   "metadata": {},
   "outputs": [],
   "source": []
  }
 ],
 "metadata": {
  "kernelspec": {
   "display_name": "bookenv",
   "language": "python",
   "name": "bookenv"
  },
  "language_info": {
   "codemirror_mode": {
    "name": "ipython",
    "version": 3
   },
   "file_extension": ".py",
   "mimetype": "text/x-python",
   "name": "python",
   "nbconvert_exporter": "python",
   "pygments_lexer": "ipython3",
   "version": "3.8.3"
  }
 },
 "nbformat": 4,
 "nbformat_minor": 4
}
