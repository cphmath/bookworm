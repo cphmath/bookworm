{
 "cells": [
  {
   "cell_type": "code",
   "execution_count": 31,
   "metadata": {},
   "outputs": [],
   "source": [
    "import os\n",
    "os.chdir('..')\n",
    "\n",
    "import numpy as np\n",
    "import  altair as alt\n",
    "import statsmodels.api as sm\n",
    "import bookworm.data"
   ]
  },
  {
   "cell_type": "markdown",
   "metadata": {},
   "source": [
    "# Pull Data"
   ]
  },
  {
   "cell_type": "code",
   "execution_count": 2,
   "metadata": {},
   "outputs": [
    {
     "name": "stdout",
     "output_type": "stream",
     "text": [
      "Loading cached data...\n",
      "Processing data...\n",
      "Done\n"
     ]
    }
   ],
   "source": [
    "df = bookworm.data.get_checkouts_by_usage_class()"
   ]
  },
  {
   "cell_type": "code",
   "execution_count": 3,
   "metadata": {},
   "outputs": [
    {
     "data": {
      "text/html": [
       "<div>\n",
       "<style scoped>\n",
       "    .dataframe tbody tr th:only-of-type {\n",
       "        vertical-align: middle;\n",
       "    }\n",
       "\n",
       "    .dataframe tbody tr th {\n",
       "        vertical-align: top;\n",
       "    }\n",
       "\n",
       "    .dataframe thead th {\n",
       "        text-align: right;\n",
       "    }\n",
       "</style>\n",
       "<table border=\"1\" class=\"dataframe\">\n",
       "  <thead>\n",
       "    <tr style=\"text-align: right;\">\n",
       "      <th></th>\n",
       "      <th>month_date</th>\n",
       "      <th>usage_class</th>\n",
       "      <th>monthly_checkouts</th>\n",
       "    </tr>\n",
       "  </thead>\n",
       "  <tbody>\n",
       "    <tr>\n",
       "      <th>58</th>\n",
       "      <td>2017-01-01</td>\n",
       "      <td>Digital</td>\n",
       "      <td>185376</td>\n",
       "    </tr>\n",
       "    <tr>\n",
       "      <th>36</th>\n",
       "      <td>2017-01-01</td>\n",
       "      <td>Physical</td>\n",
       "      <td>331830</td>\n",
       "    </tr>\n",
       "    <tr>\n",
       "      <th>31</th>\n",
       "      <td>2017-02-01</td>\n",
       "      <td>Digital</td>\n",
       "      <td>168370</td>\n",
       "    </tr>\n",
       "    <tr>\n",
       "      <th>66</th>\n",
       "      <td>2017-02-01</td>\n",
       "      <td>Physical</td>\n",
       "      <td>299992</td>\n",
       "    </tr>\n",
       "    <tr>\n",
       "      <th>56</th>\n",
       "      <td>2017-03-01</td>\n",
       "      <td>Digital</td>\n",
       "      <td>186795</td>\n",
       "    </tr>\n",
       "  </tbody>\n",
       "</table>\n",
       "</div>"
      ],
      "text/plain": [
       "   month_date usage_class  monthly_checkouts\n",
       "58 2017-01-01     Digital             185376\n",
       "36 2017-01-01    Physical             331830\n",
       "31 2017-02-01     Digital             168370\n",
       "66 2017-02-01    Physical             299992\n",
       "56 2017-03-01     Digital             186795"
      ]
     },
     "execution_count": 3,
     "metadata": {},
     "output_type": "execute_result"
    }
   ],
   "source": [
    "df.head()"
   ]
  },
  {
   "cell_type": "markdown",
   "metadata": {},
   "source": [
    "# Digital vs Physical Trends\n",
    "\n",
    "Between January 2017 and March 2020, Digital checkouts grew linearly each month while Physical checkouts stayed approximately constant with some month-to-month variation. After March 2020, Physical checkouts dropped to zero due to branch closures, and Digital checkouts seemed to increase beyond the expected trend. How much did Digital checkouts increase in April, May and June 2020 over what was expected due to Covid-19?"
   ]
  },
  {
   "cell_type": "code",
   "execution_count": 4,
   "metadata": {},
   "outputs": [
    {
     "data": {
      "text/html": [
       "\n",
       "<div id=\"altair-viz-52d2cd52b62c4ac6897243f7b0e80137\"></div>\n",
       "<script type=\"text/javascript\">\n",
       "  (function(spec, embedOpt){\n",
       "    let outputDiv = document.currentScript.previousElementSibling;\n",
       "    if (outputDiv.id !== \"altair-viz-52d2cd52b62c4ac6897243f7b0e80137\") {\n",
       "      outputDiv = document.getElementById(\"altair-viz-52d2cd52b62c4ac6897243f7b0e80137\");\n",
       "    }\n",
       "    const paths = {\n",
       "      \"vega\": \"https://cdn.jsdelivr.net/npm//vega@5?noext\",\n",
       "      \"vega-lib\": \"https://cdn.jsdelivr.net/npm//vega-lib?noext\",\n",
       "      \"vega-lite\": \"https://cdn.jsdelivr.net/npm//vega-lite@4.8.1?noext\",\n",
       "      \"vega-embed\": \"https://cdn.jsdelivr.net/npm//vega-embed@6?noext\",\n",
       "    };\n",
       "\n",
       "    function loadScript(lib) {\n",
       "      return new Promise(function(resolve, reject) {\n",
       "        var s = document.createElement('script');\n",
       "        s.src = paths[lib];\n",
       "        s.async = true;\n",
       "        s.onload = () => resolve(paths[lib]);\n",
       "        s.onerror = () => reject(`Error loading script: ${paths[lib]}`);\n",
       "        document.getElementsByTagName(\"head\")[0].appendChild(s);\n",
       "      });\n",
       "    }\n",
       "\n",
       "    function showError(err) {\n",
       "      outputDiv.innerHTML = `<div class=\"error\" style=\"color:red;\">${err}</div>`;\n",
       "      throw err;\n",
       "    }\n",
       "\n",
       "    function displayChart(vegaEmbed) {\n",
       "      vegaEmbed(outputDiv, spec, embedOpt)\n",
       "        .catch(err => showError(`Javascript Error: ${err.message}<br>This usually means there's a typo in your chart specification. See the javascript console for the full traceback.`));\n",
       "    }\n",
       "\n",
       "    if(typeof define === \"function\" && define.amd) {\n",
       "      requirejs.config({paths});\n",
       "      require([\"vega-embed\"], displayChart, err => showError(`Error loading script: ${err.message}`));\n",
       "    } else if (typeof vegaEmbed === \"function\") {\n",
       "      displayChart(vegaEmbed);\n",
       "    } else {\n",
       "      loadScript(\"vega\")\n",
       "        .then(() => loadScript(\"vega-lite\"))\n",
       "        .then(() => loadScript(\"vega-embed\"))\n",
       "        .catch(showError)\n",
       "        .then(() => displayChart(vegaEmbed));\n",
       "    }\n",
       "  })({\"config\": {\"view\": {\"continuousWidth\": 400, \"continuousHeight\": 300}}, \"data\": {\"name\": \"data-467ffd9bc000d8f2bb012d6fdf77bfe7\"}, \"mark\": \"line\", \"encoding\": {\"color\": {\"type\": \"nominal\", \"field\": \"usage_class\"}, \"x\": {\"type\": \"temporal\", \"field\": \"month_date\"}, \"y\": {\"type\": \"quantitative\", \"field\": \"monthly_checkouts\"}}, \"$schema\": \"https://vega.github.io/schema/vega-lite/v4.8.1.json\", \"datasets\": {\"data-467ffd9bc000d8f2bb012d6fdf77bfe7\": [{\"month_date\": \"2017-01-01T00:00:00\", \"usage_class\": \"Digital\", \"monthly_checkouts\": 185376}, {\"month_date\": \"2017-01-01T00:00:00\", \"usage_class\": \"Physical\", \"monthly_checkouts\": 331830}, {\"month_date\": \"2017-02-01T00:00:00\", \"usage_class\": \"Digital\", \"monthly_checkouts\": 168370}, {\"month_date\": \"2017-02-01T00:00:00\", \"usage_class\": \"Physical\", \"monthly_checkouts\": 299992}, {\"month_date\": \"2017-03-01T00:00:00\", \"usage_class\": \"Digital\", \"monthly_checkouts\": 186795}, {\"month_date\": \"2017-03-01T00:00:00\", \"usage_class\": \"Physical\", \"monthly_checkouts\": 339645}, {\"month_date\": \"2017-04-01T00:00:00\", \"usage_class\": \"Digital\", \"monthly_checkouts\": 184500}, {\"month_date\": \"2017-04-01T00:00:00\", \"usage_class\": \"Physical\", \"monthly_checkouts\": 323798}, {\"month_date\": \"2017-05-01T00:00:00\", \"usage_class\": \"Digital\", \"monthly_checkouts\": 187126}, {\"month_date\": \"2017-05-01T00:00:00\", \"usage_class\": \"Physical\", \"monthly_checkouts\": 314535}, {\"month_date\": \"2017-06-01T00:00:00\", \"usage_class\": \"Digital\", \"monthly_checkouts\": 190590}, {\"month_date\": \"2017-06-01T00:00:00\", \"usage_class\": \"Physical\", \"monthly_checkouts\": 331804}, {\"month_date\": \"2017-07-01T00:00:00\", \"usage_class\": \"Digital\", \"monthly_checkouts\": 198990}, {\"month_date\": \"2017-07-01T00:00:00\", \"usage_class\": \"Physical\", \"monthly_checkouts\": 363403}, {\"month_date\": \"2017-08-01T00:00:00\", \"usage_class\": \"Digital\", \"monthly_checkouts\": 209142}, {\"month_date\": \"2017-08-01T00:00:00\", \"usage_class\": \"Physical\", \"monthly_checkouts\": 353581}, {\"month_date\": \"2017-09-01T00:00:00\", \"usage_class\": \"Digital\", \"monthly_checkouts\": 191778}, {\"month_date\": \"2017-09-01T00:00:00\", \"usage_class\": \"Physical\", \"monthly_checkouts\": 331058}, {\"month_date\": \"2017-10-01T00:00:00\", \"usage_class\": \"Digital\", \"monthly_checkouts\": 198296}, {\"month_date\": \"2017-10-01T00:00:00\", \"usage_class\": \"Physical\", \"monthly_checkouts\": 342200}, {\"month_date\": \"2017-11-01T00:00:00\", \"usage_class\": \"Digital\", \"monthly_checkouts\": 197227}, {\"month_date\": \"2017-11-01T00:00:00\", \"usage_class\": \"Physical\", \"monthly_checkouts\": 335034}, {\"month_date\": \"2017-12-01T00:00:00\", \"usage_class\": \"Digital\", \"monthly_checkouts\": 210896}, {\"month_date\": \"2017-12-01T00:00:00\", \"usage_class\": \"Physical\", \"monthly_checkouts\": 304713}, {\"month_date\": \"2018-01-01T00:00:00\", \"usage_class\": \"Digital\", \"monthly_checkouts\": 225361}, {\"month_date\": \"2018-01-01T00:00:00\", \"usage_class\": \"Physical\", \"monthly_checkouts\": 355101}, {\"month_date\": \"2018-02-01T00:00:00\", \"usage_class\": \"Digital\", \"monthly_checkouts\": 203892}, {\"month_date\": \"2018-02-01T00:00:00\", \"usage_class\": \"Physical\", \"monthly_checkouts\": 309813}, {\"month_date\": \"2018-03-01T00:00:00\", \"usage_class\": \"Digital\", \"monthly_checkouts\": 227451}, {\"month_date\": \"2018-03-01T00:00:00\", \"usage_class\": \"Physical\", \"monthly_checkouts\": 344487}, {\"month_date\": \"2018-04-01T00:00:00\", \"usage_class\": \"Digital\", \"monthly_checkouts\": 223897}, {\"month_date\": \"2018-04-01T00:00:00\", \"usage_class\": \"Physical\", \"monthly_checkouts\": 330988}, {\"month_date\": \"2018-05-01T00:00:00\", \"usage_class\": \"Digital\", \"monthly_checkouts\": 227328}, {\"month_date\": \"2018-05-01T00:00:00\", \"usage_class\": \"Physical\", \"monthly_checkouts\": 318049}, {\"month_date\": \"2018-06-01T00:00:00\", \"usage_class\": \"Digital\", \"monthly_checkouts\": 233988}, {\"month_date\": \"2018-06-01T00:00:00\", \"usage_class\": \"Physical\", \"monthly_checkouts\": 341825}, {\"month_date\": \"2018-07-01T00:00:00\", \"usage_class\": \"Digital\", \"monthly_checkouts\": 253747}, {\"month_date\": \"2018-07-01T00:00:00\", \"usage_class\": \"Physical\", \"monthly_checkouts\": 351207}, {\"month_date\": \"2018-08-01T00:00:00\", \"usage_class\": \"Digital\", \"monthly_checkouts\": 260651}, {\"month_date\": \"2018-08-01T00:00:00\", \"usage_class\": \"Physical\", \"monthly_checkouts\": 352977}, {\"month_date\": \"2018-09-01T00:00:00\", \"usage_class\": \"Digital\", \"monthly_checkouts\": 243301}, {\"month_date\": \"2018-09-01T00:00:00\", \"usage_class\": \"Physical\", \"monthly_checkouts\": 319587}, {\"month_date\": \"2018-10-01T00:00:00\", \"usage_class\": \"Digital\", \"monthly_checkouts\": 250071}, {\"month_date\": \"2018-10-01T00:00:00\", \"usage_class\": \"Physical\", \"monthly_checkouts\": 338497}, {\"month_date\": \"2018-11-01T00:00:00\", \"usage_class\": \"Digital\", \"monthly_checkouts\": 240341}, {\"month_date\": \"2018-11-01T00:00:00\", \"usage_class\": \"Physical\", \"monthly_checkouts\": 325249}, {\"month_date\": \"2018-12-01T00:00:00\", \"usage_class\": \"Digital\", \"monthly_checkouts\": 253629}, {\"month_date\": \"2018-12-01T00:00:00\", \"usage_class\": \"Physical\", \"monthly_checkouts\": 299789}, {\"month_date\": \"2019-01-01T00:00:00\", \"usage_class\": \"Digital\", \"monthly_checkouts\": 275985}, {\"month_date\": \"2019-01-01T00:00:00\", \"usage_class\": \"Physical\", \"monthly_checkouts\": 352288}, {\"month_date\": \"2019-02-01T00:00:00\", \"usage_class\": \"Digital\", \"monthly_checkouts\": 249946}, {\"month_date\": \"2019-02-01T00:00:00\", \"usage_class\": \"Physical\", \"monthly_checkouts\": 299465}, {\"month_date\": \"2019-03-01T00:00:00\", \"usage_class\": \"Digital\", \"monthly_checkouts\": 270097}, {\"month_date\": \"2019-03-01T00:00:00\", \"usage_class\": \"Physical\", \"monthly_checkouts\": 326457}, {\"month_date\": \"2019-04-01T00:00:00\", \"usage_class\": \"Digital\", \"monthly_checkouts\": 269302}, {\"month_date\": \"2019-04-01T00:00:00\", \"usage_class\": \"Physical\", \"monthly_checkouts\": 326988}, {\"month_date\": \"2019-05-01T00:00:00\", \"usage_class\": \"Digital\", \"monthly_checkouts\": 278086}, {\"month_date\": \"2019-05-01T00:00:00\", \"usage_class\": \"Physical\", \"monthly_checkouts\": 314565}, {\"month_date\": \"2019-06-01T00:00:00\", \"usage_class\": \"Digital\", \"monthly_checkouts\": 279311}, {\"month_date\": \"2019-06-01T00:00:00\", \"usage_class\": \"Physical\", \"monthly_checkouts\": 331914}, {\"month_date\": \"2019-07-01T00:00:00\", \"usage_class\": \"Digital\", \"monthly_checkouts\": 300752}, {\"month_date\": \"2019-07-01T00:00:00\", \"usage_class\": \"Physical\", \"monthly_checkouts\": 356688}, {\"month_date\": \"2019-08-01T00:00:00\", \"usage_class\": \"Digital\", \"monthly_checkouts\": 304575}, {\"month_date\": \"2019-08-01T00:00:00\", \"usage_class\": \"Physical\", \"monthly_checkouts\": 340723}, {\"month_date\": \"2019-09-01T00:00:00\", \"usage_class\": \"Digital\", \"monthly_checkouts\": 287419}, {\"month_date\": \"2019-09-01T00:00:00\", \"usage_class\": \"Physical\", \"monthly_checkouts\": 328773}, {\"month_date\": \"2019-10-01T00:00:00\", \"usage_class\": \"Digital\", \"monthly_checkouts\": 294671}, {\"month_date\": \"2019-10-01T00:00:00\", \"usage_class\": \"Physical\", \"monthly_checkouts\": 334295}, {\"month_date\": \"2019-11-01T00:00:00\", \"usage_class\": \"Digital\", \"monthly_checkouts\": 289002}, {\"month_date\": \"2019-11-01T00:00:00\", \"usage_class\": \"Physical\", \"monthly_checkouts\": 323796}, {\"month_date\": \"2019-12-01T00:00:00\", \"usage_class\": \"Digital\", \"monthly_checkouts\": 308176}, {\"month_date\": \"2019-12-01T00:00:00\", \"usage_class\": \"Physical\", \"monthly_checkouts\": 295736}, {\"month_date\": \"2020-01-01T00:00:00\", \"usage_class\": \"Digital\", \"monthly_checkouts\": 324650}, {\"month_date\": \"2020-01-01T00:00:00\", \"usage_class\": \"Physical\", \"monthly_checkouts\": 343328}, {\"month_date\": \"2020-02-01T00:00:00\", \"usage_class\": \"Digital\", \"monthly_checkouts\": 300871}, {\"month_date\": \"2020-02-01T00:00:00\", \"usage_class\": \"Physical\", \"monthly_checkouts\": 317946}, {\"month_date\": \"2020-03-01T00:00:00\", \"usage_class\": \"Digital\", \"monthly_checkouts\": 321092}, {\"month_date\": \"2020-03-01T00:00:00\", \"usage_class\": \"Physical\", \"monthly_checkouts\": 215128}, {\"month_date\": \"2020-04-01T00:00:00\", \"usage_class\": \"Digital\", \"monthly_checkouts\": 354090}, {\"month_date\": \"2020-04-01T00:00:00\", \"usage_class\": \"Physical\", \"monthly_checkouts\": 70}, {\"month_date\": \"2020-05-01T00:00:00\", \"usage_class\": \"Digital\", \"monthly_checkouts\": 383934}, {\"month_date\": \"2020-05-01T00:00:00\", \"usage_class\": \"Physical\", \"monthly_checkouts\": 87}, {\"month_date\": \"2020-06-01T00:00:00\", \"usage_class\": \"Digital\", \"monthly_checkouts\": 380269}, {\"month_date\": \"2020-06-01T00:00:00\", \"usage_class\": \"Physical\", \"monthly_checkouts\": 43}]}}, {\"mode\": \"vega-lite\"});\n",
       "</script>"
      ],
      "text/plain": [
       "alt.Chart(...)"
      ]
     },
     "execution_count": 4,
     "metadata": {},
     "output_type": "execute_result"
    }
   ],
   "source": [
    "alt.Chart(df).mark_line().encode(\n",
    "    x='month_date',\n",
    "    y='monthly_checkouts',\n",
    "    color='usage_class'\n",
    ")"
   ]
  },
  {
   "cell_type": "markdown",
   "metadata": {},
   "source": [
    "# Modeling Pre-Covid Digital Checkouts Trend\n",
    "\n",
    "To determine the causal impact of the pandemic on digital book checkouts, I can see if a linear model fits the trend prior to March. If it fits well, I can use the linear model to estimate what the digital checkouts would have been without the pandemic, and calculate the difference between the estimate and the actual digital checkouts."
   ]
  },
  {
   "cell_type": "code",
   "execution_count": 8,
   "metadata": {},
   "outputs": [],
   "source": [
    "digital = df.query(\"usage_class == 'Digital'\")"
   ]
  },
  {
   "cell_type": "code",
   "execution_count": 9,
   "metadata": {},
   "outputs": [
    {
     "data": {
      "text/html": [
       "<div>\n",
       "<style scoped>\n",
       "    .dataframe tbody tr th:only-of-type {\n",
       "        vertical-align: middle;\n",
       "    }\n",
       "\n",
       "    .dataframe tbody tr th {\n",
       "        vertical-align: top;\n",
       "    }\n",
       "\n",
       "    .dataframe thead th {\n",
       "        text-align: right;\n",
       "    }\n",
       "</style>\n",
       "<table border=\"1\" class=\"dataframe\">\n",
       "  <thead>\n",
       "    <tr style=\"text-align: right;\">\n",
       "      <th></th>\n",
       "      <th>month_date</th>\n",
       "      <th>usage_class</th>\n",
       "      <th>monthly_checkouts</th>\n",
       "    </tr>\n",
       "  </thead>\n",
       "  <tbody>\n",
       "    <tr>\n",
       "      <th>58</th>\n",
       "      <td>2017-01-01</td>\n",
       "      <td>Digital</td>\n",
       "      <td>185376</td>\n",
       "    </tr>\n",
       "    <tr>\n",
       "      <th>31</th>\n",
       "      <td>2017-02-01</td>\n",
       "      <td>Digital</td>\n",
       "      <td>168370</td>\n",
       "    </tr>\n",
       "    <tr>\n",
       "      <th>56</th>\n",
       "      <td>2017-03-01</td>\n",
       "      <td>Digital</td>\n",
       "      <td>186795</td>\n",
       "    </tr>\n",
       "    <tr>\n",
       "      <th>69</th>\n",
       "      <td>2017-04-01</td>\n",
       "      <td>Digital</td>\n",
       "      <td>184500</td>\n",
       "    </tr>\n",
       "    <tr>\n",
       "      <th>47</th>\n",
       "      <td>2017-05-01</td>\n",
       "      <td>Digital</td>\n",
       "      <td>187126</td>\n",
       "    </tr>\n",
       "  </tbody>\n",
       "</table>\n",
       "</div>"
      ],
      "text/plain": [
       "   month_date usage_class  monthly_checkouts\n",
       "58 2017-01-01     Digital             185376\n",
       "31 2017-02-01     Digital             168370\n",
       "56 2017-03-01     Digital             186795\n",
       "69 2017-04-01     Digital             184500\n",
       "47 2017-05-01     Digital             187126"
      ]
     },
     "execution_count": 9,
     "metadata": {},
     "output_type": "execute_result"
    }
   ],
   "source": [
    "digital.head()"
   ]
  },
  {
   "cell_type": "markdown",
   "metadata": {},
   "source": [
    "## See if a linear model is a good estimator\n",
    "\n",
    "I can see if a linear model is a good estimator by fitting a line to the monthly digital checkouts for January 2017 through November 2019, and using that model to predict the digital checkout volume for December 2019, January 2020 and February 2020. The error on that holdout set will give me an idea of how accurate a linear model will be when it's fit on all the data through March and used to predict what would have happened in April and May under normal non-pandemic circumstances."
   ]
  },
  {
   "cell_type": "code",
   "execution_count": 28,
   "metadata": {},
   "outputs": [],
   "source": [
    "# creates a variable t counting the number of months since the beginning of the dataset, starting at 1\n",
    "digital.loc[:, 't'] = np.arange(1, len(digital) + 1)"
   ]
  },
  {
   "cell_type": "code",
   "execution_count": 29,
   "metadata": {},
   "outputs": [],
   "source": [
    "pre = digital.query(\"month_date < '2019-12-01'\")\n",
    "post = digital.query(\"month_date >= '2019-12-01' & month_date < '2020-03-01'\")"
   ]
  },
  {
   "cell_type": "code",
   "execution_count": 32,
   "metadata": {},
   "outputs": [],
   "source": [
    "X_pre = sm.add_constant(pre[['t']])\n",
    "X_post = sm.add_constant(post[['t']])\n",
    "y = pre[['monthly_checkouts']]"
   ]
  },
  {
   "cell_type": "markdown",
   "metadata": {},
   "source": [
    "### Test model summary\n",
    "\n",
    "The summary of the linear model trained on partial data looks good. R-squared and adjusted R-squared are high, and the predictive variable t has a p-value less than .05 and the coefficient looks reasonable. The p-value on the F-statistic is also below .05"
   ]
  },
  {
   "cell_type": "code",
   "execution_count": 33,
   "metadata": {},
   "outputs": [
    {
     "name": "stdout",
     "output_type": "stream",
     "text": [
      "                            OLS Regression Results                            \n",
      "==============================================================================\n",
      "Dep. Variable:      monthly_checkouts   R-squared:                       0.943\n",
      "Model:                            OLS   Adj. R-squared:                  0.941\n",
      "Method:                 Least Squares   F-statistic:                     543.4\n",
      "Date:                Tue, 21 Jul 2020   Prob (F-statistic):           4.52e-22\n",
      "Time:                        17:36:01   Log-Likelihood:                -369.43\n",
      "No. Observations:                  35   AIC:                             742.9\n",
      "Df Residuals:                      33   BIC:                             746.0\n",
      "Df Model:                           1                                         \n",
      "Covariance Type:            nonrobust                                         \n",
      "==============================================================================\n",
      "                 coef    std err          t      P>|t|      [0.025      0.975]\n",
      "------------------------------------------------------------------------------\n",
      "const       1.686e+05   3303.418     51.042      0.000    1.62e+05    1.75e+05\n",
      "t           3730.8633    160.051     23.310      0.000    3405.237    4056.490\n",
      "==============================================================================\n",
      "Omnibus:                        1.099   Durbin-Watson:                   1.963\n",
      "Prob(Omnibus):                  0.577   Jarque-Bera (JB):                1.047\n",
      "Skew:                           0.266   Prob(JB):                        0.593\n",
      "Kurtosis:                       2.340   Cond. No.                         42.3\n",
      "==============================================================================\n",
      "\n",
      "Warnings:\n",
      "[1] Standard Errors assume that the covariance matrix of the errors is correctly specified.\n"
     ]
    }
   ],
   "source": [
    "model = sm.OLS(y, X_pre)\n",
    "fitted_model = model.fit()\n",
    "print(fitted_model.summary())"
   ]
  },
  {
   "cell_type": "markdown",
   "metadata": {},
   "source": [
    "### Prediction error\n",
    "\n",
    "The mean absolute percentage error on the predictions is 3.4%, and the highest point estimate absolute percentage error is 5.5%. This seems reasonable to me. If the model did not fit well, we could try adding more variables to the linear model to control for other factors like seasonality, or using a more sophisticated time series forecasting model."
   ]
  },
  {
   "cell_type": "code",
   "execution_count": 49,
   "metadata": {},
   "outputs": [],
   "source": [
    "post.loc[:, 'preds'] = fitted_model.predict(X_post)"
   ]
  },
  {
   "cell_type": "code",
   "execution_count": 43,
   "metadata": {},
   "outputs": [],
   "source": [
    "post.loc[:, 'abs_err'] = np.abs(post.loc[:, 'preds'] - post.loc[:, 'monthly_checkouts'])\n",
    "post.loc[:, 'abs_pct_err'] = post.loc[:, 'abs_err'] / post.loc[:, 'monthly_checkouts']"
   ]
  },
  {
   "cell_type": "code",
   "execution_count": 50,
   "metadata": {},
   "outputs": [
    {
     "data": {
      "text/html": [
       "<div>\n",
       "<style scoped>\n",
       "    .dataframe tbody tr th:only-of-type {\n",
       "        vertical-align: middle;\n",
       "    }\n",
       "\n",
       "    .dataframe tbody tr th {\n",
       "        vertical-align: top;\n",
       "    }\n",
       "\n",
       "    .dataframe thead th {\n",
       "        text-align: right;\n",
       "    }\n",
       "</style>\n",
       "<table border=\"1\" class=\"dataframe\">\n",
       "  <thead>\n",
       "    <tr style=\"text-align: right;\">\n",
       "      <th></th>\n",
       "      <th>month_date</th>\n",
       "      <th>usage_class</th>\n",
       "      <th>monthly_checkouts</th>\n",
       "      <th>t</th>\n",
       "      <th>preds</th>\n",
       "      <th>abs_pct_err</th>\n",
       "      <th>abs_err</th>\n",
       "    </tr>\n",
       "  </thead>\n",
       "  <tbody>\n",
       "    <tr>\n",
       "      <th>29</th>\n",
       "      <td>2019-12-01</td>\n",
       "      <td>Digital</td>\n",
       "      <td>308176</td>\n",
       "      <td>36</td>\n",
       "      <td>302923.796639</td>\n",
       "      <td>0.017043</td>\n",
       "      <td>5252.203361</td>\n",
       "    </tr>\n",
       "    <tr>\n",
       "      <th>1</th>\n",
       "      <td>2020-01-01</td>\n",
       "      <td>Digital</td>\n",
       "      <td>324650</td>\n",
       "      <td>37</td>\n",
       "      <td>306654.659944</td>\n",
       "      <td>0.055430</td>\n",
       "      <td>17995.340056</td>\n",
       "    </tr>\n",
       "    <tr>\n",
       "      <th>42</th>\n",
       "      <td>2020-02-01</td>\n",
       "      <td>Digital</td>\n",
       "      <td>300871</td>\n",
       "      <td>38</td>\n",
       "      <td>310385.523249</td>\n",
       "      <td>0.031623</td>\n",
       "      <td>9514.523249</td>\n",
       "    </tr>\n",
       "  </tbody>\n",
       "</table>\n",
       "</div>"
      ],
      "text/plain": [
       "   month_date usage_class  monthly_checkouts   t          preds  abs_pct_err  \\\n",
       "29 2019-12-01     Digital             308176  36  302923.796639     0.017043   \n",
       "1  2020-01-01     Digital             324650  37  306654.659944     0.055430   \n",
       "42 2020-02-01     Digital             300871  38  310385.523249     0.031623   \n",
       "\n",
       "         abs_err  \n",
       "29   5252.203361  \n",
       "1   17995.340056  \n",
       "42   9514.523249  "
      ]
     },
     "execution_count": 50,
     "metadata": {},
     "output_type": "execute_result"
    }
   ],
   "source": [
    "post"
   ]
  },
  {
   "cell_type": "code",
   "execution_count": 47,
   "metadata": {},
   "outputs": [
    {
     "data": {
      "text/plain": [
       "0.034698701687710304"
      ]
     },
     "execution_count": 47,
     "metadata": {},
     "output_type": "execute_result"
    }
   ],
   "source": [
    "post['abs_pct_err'].mean()"
   ]
  },
  {
   "cell_type": "markdown",
   "metadata": {},
   "source": [
    "# Predict the counterfactual digital checkouts for April, May, June\n",
    "\n",
    "What would we have expected digital checkouts to be under normal circumstances?"
   ]
  },
  {
   "cell_type": "code",
   "execution_count": 51,
   "metadata": {},
   "outputs": [],
   "source": [
    "pre = digital.query(\"month_date < '2020-04-01'\")\n",
    "post = digital.query(\"month_date >= '2020-04-01'\")"
   ]
  },
  {
   "cell_type": "code",
   "execution_count": 52,
   "metadata": {},
   "outputs": [],
   "source": [
    "X_pre = sm.add_constant(pre[['t']])\n",
    "X_post = sm.add_constant(post[['t']])\n",
    "y = pre[['monthly_checkouts']]"
   ]
  },
  {
   "cell_type": "markdown",
   "metadata": {},
   "source": [
    "### Full model summary\n",
    "\n",
    "The full model looks great also, with a statistically significant predictor variable, a p-value less than .05 on the F-statistic, and R-squared over .95"
   ]
  },
  {
   "cell_type": "code",
   "execution_count": 53,
   "metadata": {},
   "outputs": [
    {
     "name": "stdout",
     "output_type": "stream",
     "text": [
      "                            OLS Regression Results                            \n",
      "==============================================================================\n",
      "Dep. Variable:      monthly_checkouts   R-squared:                       0.954\n",
      "Model:                            OLS   Adj. R-squared:                  0.952\n",
      "Method:                 Least Squares   F-statistic:                     760.9\n",
      "Date:                Tue, 21 Jul 2020   Prob (F-statistic):           2.82e-26\n",
      "Time:                        17:55:21   Log-Likelihood:                -412.28\n",
      "No. Observations:                  39   AIC:                             828.6\n",
      "Df Residuals:                      37   BIC:                             831.9\n",
      "Df Model:                           1                                         \n",
      "Covariance Type:            nonrobust                                         \n",
      "==============================================================================\n",
      "                 coef    std err          t      P>|t|      [0.025      0.975]\n",
      "------------------------------------------------------------------------------\n",
      "const       1.677e+05   3163.185     53.023      0.000    1.61e+05    1.74e+05\n",
      "t           3801.9628    137.834     27.584      0.000    3522.684    4081.241\n",
      "==============================================================================\n",
      "Omnibus:                        1.955   Durbin-Watson:                   2.118\n",
      "Prob(Omnibus):                  0.376   Jarque-Bera (JB):                1.314\n",
      "Skew:                           0.181   Prob(JB):                        0.519\n",
      "Kurtosis:                       2.177   Cond. No.                         46.9\n",
      "==============================================================================\n",
      "\n",
      "Warnings:\n",
      "[1] Standard Errors assume that the covariance matrix of the errors is correctly specified.\n"
     ]
    }
   ],
   "source": [
    "model = sm.OLS(y, X_pre)\n",
    "fitted_model = model.fit()\n",
    "print(fitted_model.summary())"
   ]
  },
  {
   "cell_type": "markdown",
   "metadata": {},
   "source": [
    "### Compute incremental digital checkouts"
   ]
  },
  {
   "cell_type": "code",
   "execution_count": 59,
   "metadata": {},
   "outputs": [],
   "source": [
    "preds = fitted_model.predict(X_post)"
   ]
  },
  {
   "cell_type": "code",
   "execution_count": 62,
   "metadata": {},
   "outputs": [],
   "source": [
    "post.loc[:, 'preds'] = preds"
   ]
  },
  {
   "cell_type": "code",
   "execution_count": 66,
   "metadata": {},
   "outputs": [
    {
     "name": "stderr",
     "output_type": "stream",
     "text": [
      "<ipython-input-66-1be58d3317ef>:1: SettingWithCopyWarning: \n",
      "A value is trying to be set on a copy of a slice from a DataFrame.\n",
      "Try using .loc[row_indexer,col_indexer] = value instead\n",
      "\n",
      "See the caveats in the documentation: https://pandas.pydata.org/pandas-docs/stable/user_guide/indexing.html#returning-a-view-versus-a-copy\n",
      "  post['increase'] = post['monthly_checkouts'] - post['preds']\n"
     ]
    }
   ],
   "source": [
    "post['increase'] = post['monthly_checkouts'] - post['preds']"
   ]
  },
  {
   "cell_type": "code",
   "execution_count": 71,
   "metadata": {},
   "outputs": [
    {
     "data": {
      "text/html": [
       "<div>\n",
       "<style scoped>\n",
       "    .dataframe tbody tr th:only-of-type {\n",
       "        vertical-align: middle;\n",
       "    }\n",
       "\n",
       "    .dataframe tbody tr th {\n",
       "        vertical-align: top;\n",
       "    }\n",
       "\n",
       "    .dataframe thead th {\n",
       "        text-align: right;\n",
       "    }\n",
       "</style>\n",
       "<table border=\"1\" class=\"dataframe\">\n",
       "  <thead>\n",
       "    <tr style=\"text-align: right;\">\n",
       "      <th></th>\n",
       "      <th>month_date</th>\n",
       "      <th>usage_class</th>\n",
       "      <th>monthly_checkouts</th>\n",
       "      <th>t</th>\n",
       "      <th>preds</th>\n",
       "      <th>increase</th>\n",
       "    </tr>\n",
       "  </thead>\n",
       "  <tbody>\n",
       "    <tr>\n",
       "      <th>5</th>\n",
       "      <td>2020-04-01</td>\n",
       "      <td>Digital</td>\n",
       "      <td>354090</td>\n",
       "      <td>40</td>\n",
       "      <td>319800.229420</td>\n",
       "      <td>34289.770580</td>\n",
       "    </tr>\n",
       "    <tr>\n",
       "      <th>16</th>\n",
       "      <td>2020-05-01</td>\n",
       "      <td>Digital</td>\n",
       "      <td>383934</td>\n",
       "      <td>41</td>\n",
       "      <td>323602.192173</td>\n",
       "      <td>60331.807827</td>\n",
       "    </tr>\n",
       "    <tr>\n",
       "      <th>49</th>\n",
       "      <td>2020-06-01</td>\n",
       "      <td>Digital</td>\n",
       "      <td>380269</td>\n",
       "      <td>42</td>\n",
       "      <td>327404.154926</td>\n",
       "      <td>52864.845074</td>\n",
       "    </tr>\n",
       "  </tbody>\n",
       "</table>\n",
       "</div>"
      ],
      "text/plain": [
       "   month_date usage_class  monthly_checkouts   t          preds      increase\n",
       "5  2020-04-01     Digital             354090  40  319800.229420  34289.770580\n",
       "16 2020-05-01     Digital             383934  41  323602.192173  60331.807827\n",
       "49 2020-06-01     Digital             380269  42  327404.154926  52864.845074"
      ]
     },
     "execution_count": 71,
     "metadata": {},
     "output_type": "execute_result"
    }
   ],
   "source": [
    "post"
   ]
  },
  {
   "cell_type": "code",
   "execution_count": 70,
   "metadata": {},
   "outputs": [
    {
     "data": {
      "text/plain": [
       "5     0.096839\n",
       "16    0.157141\n",
       "49    0.139020\n",
       "dtype: float64"
      ]
     },
     "execution_count": 70,
     "metadata": {},
     "output_type": "execute_result"
    }
   ],
   "source": [
    "post['increase'] / post['monthly_checkouts']"
   ]
  }
 ],
 "metadata": {
  "kernelspec": {
   "display_name": "bookenv",
   "language": "python",
   "name": "bookenv"
  },
  "language_info": {
   "codemirror_mode": {
    "name": "ipython",
    "version": 3
   },
   "file_extension": ".py",
   "mimetype": "text/x-python",
   "name": "python",
   "nbconvert_exporter": "python",
   "pygments_lexer": "ipython3",
   "version": "3.8.3"
  }
 },
 "nbformat": 4,
 "nbformat_minor": 4
}
