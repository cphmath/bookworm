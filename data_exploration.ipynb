{
 "cells": [
  {
   "cell_type": "markdown",
   "metadata": {},
   "source": [
    "# Data Exploration\n",
    "\n",
    "June 25, 2020"
   ]
  },
  {
   "cell_type": "code",
   "execution_count": 13,
   "metadata": {},
   "outputs": [],
   "source": [
    "import pandas as pd\n",
    "import numpy as np\n",
    "import dask.dataframe as dd\n",
    "import altair as alt"
   ]
  },
  {
   "cell_type": "code",
   "execution_count": 2,
   "metadata": {},
   "outputs": [],
   "source": [
    "df = dd.read_csv('~/Downloads/checkouts.csv')"
   ]
  },
  {
   "cell_type": "code",
   "execution_count": 4,
   "metadata": {},
   "outputs": [],
   "source": [
    "grouped = df.groupby(['UsageClass', 'CheckoutYear'])['Checkouts'].sum()\n",
    "usageclass_df = grouped.compute()\n",
    "usageclass_df = usageclass_df.reset_index()"
   ]
  },
  {
   "cell_type": "code",
   "execution_count": 21,
   "metadata": {},
   "outputs": [
    {
     "data": {
      "text/html": [
       "\n",
       "<div id=\"altair-viz-a76edf1e2fbd4803ade61f4ca5924f32\"></div>\n",
       "<script type=\"text/javascript\">\n",
       "  (function(spec, embedOpt){\n",
       "    let outputDiv = document.currentScript.previousElementSibling;\n",
       "    if (outputDiv.id !== \"altair-viz-a76edf1e2fbd4803ade61f4ca5924f32\") {\n",
       "      outputDiv = document.getElementById(\"altair-viz-a76edf1e2fbd4803ade61f4ca5924f32\");\n",
       "    }\n",
       "    const paths = {\n",
       "      \"vega\": \"https://cdn.jsdelivr.net/npm//vega@5?noext\",\n",
       "      \"vega-lib\": \"https://cdn.jsdelivr.net/npm//vega-lib?noext\",\n",
       "      \"vega-lite\": \"https://cdn.jsdelivr.net/npm//vega-lite@4.8.1?noext\",\n",
       "      \"vega-embed\": \"https://cdn.jsdelivr.net/npm//vega-embed@6?noext\",\n",
       "    };\n",
       "\n",
       "    function loadScript(lib) {\n",
       "      return new Promise(function(resolve, reject) {\n",
       "        var s = document.createElement('script');\n",
       "        s.src = paths[lib];\n",
       "        s.async = true;\n",
       "        s.onload = () => resolve(paths[lib]);\n",
       "        s.onerror = () => reject(`Error loading script: ${paths[lib]}`);\n",
       "        document.getElementsByTagName(\"head\")[0].appendChild(s);\n",
       "      });\n",
       "    }\n",
       "\n",
       "    function showError(err) {\n",
       "      outputDiv.innerHTML = `<div class=\"error\" style=\"color:red;\">${err}</div>`;\n",
       "      throw err;\n",
       "    }\n",
       "\n",
       "    function displayChart(vegaEmbed) {\n",
       "      vegaEmbed(outputDiv, spec, embedOpt)\n",
       "        .catch(err => showError(`Javascript Error: ${err.message}<br>This usually means there's a typo in your chart specification. See the javascript console for the full traceback.`));\n",
       "    }\n",
       "\n",
       "    if(typeof define === \"function\" && define.amd) {\n",
       "      requirejs.config({paths});\n",
       "      require([\"vega-embed\"], displayChart, err => showError(`Error loading script: ${err.message}`));\n",
       "    } else if (typeof vegaEmbed === \"function\") {\n",
       "      displayChart(vegaEmbed);\n",
       "    } else {\n",
       "      loadScript(\"vega\")\n",
       "        .then(() => loadScript(\"vega-lite\"))\n",
       "        .then(() => loadScript(\"vega-embed\"))\n",
       "        .catch(showError)\n",
       "        .then(() => displayChart(vegaEmbed));\n",
       "    }\n",
       "  })({\"config\": {\"view\": {\"continuousWidth\": 400, \"continuousHeight\": 300}}, \"data\": {\"name\": \"data-07035c03be513468cff2c1d47ca9455d\"}, \"mark\": \"line\", \"encoding\": {\"color\": {\"type\": \"nominal\", \"field\": \"UsageClass\"}, \"x\": {\"type\": \"ordinal\", \"field\": \"CheckoutYear\"}, \"y\": {\"type\": \"quantitative\", \"field\": \"Checkouts\"}}, \"$schema\": \"https://vega.github.io/schema/vega-lite/v4.8.1.json\", \"datasets\": {\"data-07035c03be513468cff2c1d47ca9455d\": [{\"UsageClass\": \"Digital\", \"CheckoutYear\": 2019, \"Checkouts\": 3430759}, {\"UsageClass\": \"Digital\", \"CheckoutYear\": 2020, \"Checkouts\": 1685809}, {\"UsageClass\": \"Physical\", \"CheckoutYear\": 2019, \"Checkouts\": 5768324}, {\"UsageClass\": \"Physical\", \"CheckoutYear\": 2020, \"Checkouts\": 1250673}, {\"UsageClass\": \"Digital\", \"CheckoutYear\": 2016, \"Checkouts\": 2452733}, {\"UsageClass\": \"Digital\", \"CheckoutYear\": 2017, \"Checkouts\": 2752214}, {\"UsageClass\": \"Digital\", \"CheckoutYear\": 2018, \"Checkouts\": 3046521}, {\"UsageClass\": \"Physical\", \"CheckoutYear\": 2016, \"Checkouts\": 6568318}, {\"UsageClass\": \"Physical\", \"CheckoutYear\": 2017, \"Checkouts\": 6479434}, {\"UsageClass\": \"Physical\", \"CheckoutYear\": 2018, \"Checkouts\": 6102655}, {\"UsageClass\": \"Physical\", \"CheckoutYear\": 2005, \"Checkouts\": 3794726}, {\"UsageClass\": \"Digital\", \"CheckoutYear\": 2005, \"Checkouts\": 3959}, {\"UsageClass\": \"Digital\", \"CheckoutYear\": 2006, \"Checkouts\": 16839}, {\"UsageClass\": \"Physical\", \"CheckoutYear\": 2006, \"Checkouts\": 6582479}, {\"UsageClass\": \"Digital\", \"CheckoutYear\": 2007, \"Checkouts\": 34620}, {\"UsageClass\": \"Physical\", \"CheckoutYear\": 2007, \"Checkouts\": 7092007}, {\"UsageClass\": \"Digital\", \"CheckoutYear\": 2008, \"Checkouts\": 63945}, {\"UsageClass\": \"Physical\", \"CheckoutYear\": 2008, \"Checkouts\": 8374541}, {\"UsageClass\": \"Digital\", \"CheckoutYear\": 2009, \"Checkouts\": 99329}, {\"UsageClass\": \"Physical\", \"CheckoutYear\": 2009, \"Checkouts\": 9035838}, {\"UsageClass\": \"Digital\", \"CheckoutYear\": 2010, \"Checkouts\": 183920}, {\"UsageClass\": \"Physical\", \"CheckoutYear\": 2010, \"Checkouts\": 8425046}, {\"UsageClass\": \"Physical\", \"CheckoutYear\": 2011, \"Checkouts\": 7784795}, {\"UsageClass\": \"Digital\", \"CheckoutYear\": 2011, \"Checkouts\": 536937}, {\"UsageClass\": \"Digital\", \"CheckoutYear\": 2012, \"Checkouts\": 863922}, {\"UsageClass\": \"Physical\", \"CheckoutYear\": 2012, \"Checkouts\": 7299124}, {\"UsageClass\": \"Digital\", \"CheckoutYear\": 2013, \"Checkouts\": 1192836}, {\"UsageClass\": \"Physical\", \"CheckoutYear\": 2013, \"Checkouts\": 7864260}, {\"UsageClass\": \"Digital\", \"CheckoutYear\": 2014, \"Checkouts\": 1719202}, {\"UsageClass\": \"Physical\", \"CheckoutYear\": 2014, \"Checkouts\": 7416879}, {\"UsageClass\": \"Digital\", \"CheckoutYear\": 2015, \"Checkouts\": 2212553}, {\"UsageClass\": \"Physical\", \"CheckoutYear\": 2015, \"Checkouts\": 6871626}]}}, {\"mode\": \"vega-lite\"});\n",
       "</script>"
      ],
      "text/plain": [
       "alt.Chart(...)"
      ]
     },
     "execution_count": 21,
     "metadata": {},
     "output_type": "execute_result"
    }
   ],
   "source": [
    "alt.Chart(usageclass_df).mark_line().encode(\n",
    "    x='CheckoutYear:O',\n",
    "    y='Checkouts',\n",
    "    color='UsageClass'\n",
    ")"
   ]
  }
 ],
 "metadata": {
  "kernelspec": {
   "display_name": "bookenv",
   "language": "python",
   "name": "bookenv"
  },
  "language_info": {
   "codemirror_mode": {
    "name": "ipython",
    "version": 3
   },
   "file_extension": ".py",
   "mimetype": "text/x-python",
   "name": "python",
   "nbconvert_exporter": "python",
   "pygments_lexer": "ipython3",
   "version": "3.8.3"
  }
 },
 "nbformat": 4,
 "nbformat_minor": 4
}
